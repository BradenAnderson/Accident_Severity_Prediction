{
 "cells": [
  {
   "cell_type": "markdown",
   "id": "14465f5e-6fac-4be3-907b-13465bd9101a",
   "metadata": {},
   "source": [
    "# Team Introduction\n",
    "Our group is comprised of Braden Anderson, Hien Lam, and Tavin Weeda."
   ]
  },
  {
   "cell_type": "code",
   "execution_count": 1,
   "id": "a5584c78-aaa7-4d0c-95c6-a144d80e9616",
   "metadata": {},
   "outputs": [],
   "source": [
    "import pandas as pd\n",
    "import numpy as np\n",
    "import matplotlib.pyplot as plt\n",
    "import seaborn as sns\n",
    "import json\n",
    "import pickle \n",
    "\n",
    "from sklearn.preprocessing import StandardScaler, OrdinalEncoder, OneHotEncoder, StandardScaler, LabelEncoder\n",
    "from sklearn.pipeline import Pipeline\n",
    "from sklearn.compose import ColumnTransformer\n",
    "from sklearn.svm import SVC\n",
    "from sklearn.linear_model import SGDClassifier, LogisticRegression\n",
    "from sklearn.metrics import accuracy_score, recall_score, precision_score, f1_score, multilabel_confusion_matrix, ConfusionMatrixDisplay\n",
    "from sklearn.model_selection import GridSearchCV, train_test_split\n",
    "from sklearn.feature_selection import SelectKBest, mutual_info_classif\n",
    "from sklearn.ensemble import RandomForestClassifier"
   ]
  },
  {
   "cell_type": "markdown",
   "id": "54fa370a-cdb7-4967-98b0-747869450ed0",
   "metadata": {},
   "source": [
    "# Data Preparation Part 1\n",
    "- Define and prepare your class variables. \n",
    "- Use proper variable representations (int, float, one-hot, etc.). \n",
    "- Use pre-processing methods (as needed) for dimensionality reduction, scaling, etc. \n",
    "- Remove variables that are not needed/useful for the analysis.\n",
    "(10)"
   ]
  },
  {
   "cell_type": "markdown",
   "id": "55355f40",
   "metadata": {},
   "source": [
    "## Read, clean the data"
   ]
  },
  {
   "cell_type": "code",
   "execution_count": 109,
   "id": "aa7e1851",
   "metadata": {},
   "outputs": [
    {
     "name": "stderr",
     "output_type": "stream",
     "text": [
      "/var/folders/0d/nkpt65qj6d16zs305flndkkc0000gn/T/ipykernel_65805/900879784.py:7: DtypeWarning: Columns (45,47,127) have mixed types. Specify dtype option on import or set low_memory=False.\n",
      "  vehicle = pd.read_csv(url_vehicle, compression='gzip', encoding=\"ISO-8859-1\")\n"
     ]
    }
   ],
   "source": [
    "# Read in data from github\n",
    "url_accident = \"https://github.com/BradenAnderson/Accident_Severity_Prediction/blob/main/Data/accident.csv.gz?raw=tr\"\n",
    "url_vehicle = \"https://github.com/BradenAnderson/Accident_Severity_Prediction/blob/main/Data/vehicle.csv.gz?raw=tr\"\n",
    "url_person = \"https://github.com/BradenAnderson/Accident_Severity_Prediction/blob/main/Data/person.csv.gz?raw=tr\"\n",
    "\n",
    "accident = pd.read_csv(url_accident,compression='gzip')\n",
    "vehicle = pd.read_csv(url_vehicle, compression='gzip', encoding=\"ISO-8859-1\")\n",
    "person = pd.read_csv(url_person, compression='gzip', encoding=\"ISO-8859-1\")"
   ]
  },
  {
   "cell_type": "code",
   "execution_count": 110,
   "id": "3238fbd5-1966-40db-9bd3-7d3c40f423c8",
   "metadata": {},
   "outputs": [],
   "source": [
    "# Filter accidents where driver is present and vehicle is involved\n",
    "person = person.loc[(person.VEH_NO==1) & (person.PER_NO==1)]\n",
    "vehicle = vehicle.loc[vehicle.VEH_NO==1]"
   ]
  },
  {
   "cell_type": "code",
   "execution_count": 111,
   "id": "b101393b-d468-4864-97f0-6aa57a1985d0",
   "metadata": {},
   "outputs": [],
   "source": [
    "# Left join person with vehicle and accident\n",
    "# Duplicated CASENUM are dropped\n",
    "df = person.merge(vehicle.drop_duplicates(subset=['CASENUM']), on='CASENUM', how='left')\n",
    "df = df.merge(accident.drop_duplicates(subset=['CASENUM']),on='CASENUM',how='left')"
   ]
  },
  {
   "cell_type": "code",
   "execution_count": 113,
   "id": "5231e351",
   "metadata": {},
   "outputs": [
    {
     "data": {
      "text/plain": [
       "(54473, 23)"
      ]
     },
     "execution_count": 113,
     "metadata": {},
     "output_type": "execute_result"
    }
   ],
   "source": [
    "# Comprehensive list of variables used in this analysis\n",
    "# ORIGINAL features from lab 1 / EDA: regionname, urbanicityname, body_typname, makename, mod_yearname, vtrafwayname, vnum_lanname, vsurcondname, vtrafconname, \n",
    "                                # typ_intname, int_hwyname, weathername, wkdy_imname, reljct1_imname, lgtcon_imname, maxsev_imname, alchl_imname, age_im, sex_imname, trav_sp\n",
    "# DERIVED features: hour_binned, speeding_status\n",
    "# NEW features post-lab 1 / EDA: rest_usename, pcrash1_imname, weather_binned (binning of `weathername`), body_type_binned (binning of `body_typname`), int_binned (binning of `typ_intname`)\n",
    "# DISCARDED features that were not found to be useful: hour_imname (unnecessary with `hour_binned`), vspd_lim (unnecessary with `speeding_status`), makename (too many levels), wrk_zonename\n",
    "\n",
    "df = df[['REGIONNAME','URBANICITYNAME','BODY_TYPNAME_x', 'MOD_YEARNAME_x','VTRAFWAYNAME','VNUM_LANNAME','VSURCONDNAME','VTRAFCONNAME','TYP_INTNAME','INT_HWYNAME','WEATHERNAME',\n",
    "        'WKDY_IMNAME', 'RELJCT1_IMNAME','LGTCON_IMNAME','MAXSEV_IMNAME','ALCHL_IMNAME','AGE_IM','SEX_IMNAME','TRAV_SP','REST_USENAME','PCRASH1_IMNAME','HOUR_IMNAME','VSPD_LIM']]\n",
    "\n",
    "df = df.rename(columns=str.lower)\n",
    "df.shape"
   ]
  },
  {
   "cell_type": "code",
   "execution_count": 101,
   "id": "486ba7b5",
   "metadata": {},
   "outputs": [
    {
     "name": "stdout",
     "output_type": "stream",
     "text": [
      "<class 'pandas.core.frame.DataFrame'>\n",
      "Int64Index: 54473 entries, 0 to 54472\n",
      "Data columns (total 23 columns):\n",
      " #   Column          Non-Null Count  Dtype  \n",
      "---  ------          --------------  -----  \n",
      " 0   regionname      54473 non-null  object \n",
      " 1   urbanicityname  54473 non-null  object \n",
      " 2   body_typname_x  54473 non-null  object \n",
      " 3   mod_yearname_x  54473 non-null  object \n",
      " 4   vtrafwayname    54427 non-null  object \n",
      " 5   vnum_lanname    54427 non-null  object \n",
      " 6   vsurcondname    54427 non-null  object \n",
      " 7   vtrafconname    54427 non-null  object \n",
      " 8   typ_intname     54473 non-null  object \n",
      " 9   int_hwyname     54473 non-null  object \n",
      " 10  weathername     54473 non-null  object \n",
      " 11  wkdy_imname     54473 non-null  object \n",
      " 12  reljct1_imname  54473 non-null  object \n",
      " 13  lgtcon_imname   54473 non-null  object \n",
      " 14  maxsev_imname   54473 non-null  object \n",
      " 15  alchl_imname    54473 non-null  object \n",
      " 16  age_im          54473 non-null  int64  \n",
      " 17  sex_imname      54473 non-null  object \n",
      " 18  trav_sp         54427 non-null  float64\n",
      " 19  rest_usename    54473 non-null  object \n",
      " 20  p_crash1        54427 non-null  float64\n",
      " 21  hour_imname     54473 non-null  object \n",
      " 22  vspd_lim        54427 non-null  float64\n",
      "dtypes: float64(3), int64(1), object(19)\n",
      "memory usage: 10.0+ MB\n"
     ]
    }
   ],
   "source": [
    "df.info()"
   ]
  },
  {
   "cell_type": "code",
   "execution_count": 136,
   "id": "44886f83",
   "metadata": {},
   "outputs": [
    {
     "data": {
      "text/html": [
       "<div>\n",
       "<style scoped>\n",
       "    .dataframe tbody tr th:only-of-type {\n",
       "        vertical-align: middle;\n",
       "    }\n",
       "\n",
       "    .dataframe tbody tr th {\n",
       "        vertical-align: top;\n",
       "    }\n",
       "\n",
       "    .dataframe thead th {\n",
       "        text-align: right;\n",
       "    }\n",
       "</style>\n",
       "<table border=\"1\" class=\"dataframe\">\n",
       "  <thead>\n",
       "    <tr style=\"text-align: right;\">\n",
       "      <th></th>\n",
       "      <th>regionname</th>\n",
       "      <th>urbanicityname</th>\n",
       "      <th>body_typname_x</th>\n",
       "      <th>mod_yearname_x</th>\n",
       "      <th>vtrafwayname</th>\n",
       "      <th>vnum_lanname</th>\n",
       "      <th>vsurcondname</th>\n",
       "      <th>vtrafconname</th>\n",
       "      <th>typ_intname</th>\n",
       "      <th>int_hwyname</th>\n",
       "      <th>...</th>\n",
       "      <th>lgtcon_imname</th>\n",
       "      <th>maxsev_imname</th>\n",
       "      <th>alchl_imname</th>\n",
       "      <th>age_im</th>\n",
       "      <th>sex_imname</th>\n",
       "      <th>trav_sp</th>\n",
       "      <th>rest_usename</th>\n",
       "      <th>pcrash1_imname</th>\n",
       "      <th>hour_imname</th>\n",
       "      <th>vspd_lim</th>\n",
       "    </tr>\n",
       "  </thead>\n",
       "  <tbody>\n",
       "    <tr>\n",
       "      <th>0</th>\n",
       "      <td>West (MT, ID, WA, OR, CA, NV, NM, AZ, UT, CO, ...</td>\n",
       "      <td>Rural Area</td>\n",
       "      <td>4-door sedan, hardtop</td>\n",
       "      <td>2018</td>\n",
       "      <td>Two-Way, Not Divided</td>\n",
       "      <td>Five lanes</td>\n",
       "      <td>Snow</td>\n",
       "      <td>Traffic control signal(on colors) not known wh...</td>\n",
       "      <td>Four-Way Intersection</td>\n",
       "      <td>No</td>\n",
       "      <td>...</td>\n",
       "      <td>Daylight</td>\n",
       "      <td>No Apparent Injury (O)</td>\n",
       "      <td>No Alcohol Involved</td>\n",
       "      <td>61</td>\n",
       "      <td>Female</td>\n",
       "      <td>25.0</td>\n",
       "      <td>Shoulder and Lap Belt Used</td>\n",
       "      <td>Going Straight</td>\n",
       "      <td>8:00am-8:59am</td>\n",
       "      <td>98.0</td>\n",
       "    </tr>\n",
       "    <tr>\n",
       "      <th>1</th>\n",
       "      <td>South (MD, DE, DC, WV, VA, KY, TN, NC, SC, GA,...</td>\n",
       "      <td>Urban Area</td>\n",
       "      <td>4-door sedan, hardtop</td>\n",
       "      <td>2013</td>\n",
       "      <td>Two-Way, Not Divided</td>\n",
       "      <td>Two lanes</td>\n",
       "      <td>Dry</td>\n",
       "      <td>No Controls</td>\n",
       "      <td>Not an Intersection</td>\n",
       "      <td>No</td>\n",
       "      <td>...</td>\n",
       "      <td>Dark - Not Lighted</td>\n",
       "      <td>Suspected Minor Injury (B)</td>\n",
       "      <td>No Alcohol Involved</td>\n",
       "      <td>23</td>\n",
       "      <td>Male</td>\n",
       "      <td>45.0</td>\n",
       "      <td>Shoulder and Lap Belt Used</td>\n",
       "      <td>Going Straight</td>\n",
       "      <td>1:00am-1:59am</td>\n",
       "      <td>25.0</td>\n",
       "    </tr>\n",
       "    <tr>\n",
       "      <th>2</th>\n",
       "      <td>South (MD, DE, DC, WV, VA, KY, TN, NC, SC, GA,...</td>\n",
       "      <td>Urban Area</td>\n",
       "      <td>Other or Unknown automobile type</td>\n",
       "      <td>Unknown</td>\n",
       "      <td>Two-Way, Divided, Unprotected Median</td>\n",
       "      <td>Four lanes</td>\n",
       "      <td>Dry</td>\n",
       "      <td>No Controls</td>\n",
       "      <td>T-Intersection</td>\n",
       "      <td>No</td>\n",
       "      <td>...</td>\n",
       "      <td>Daylight</td>\n",
       "      <td>No Apparent Injury (O)</td>\n",
       "      <td>No Alcohol Involved</td>\n",
       "      <td>27</td>\n",
       "      <td>Female</td>\n",
       "      <td>15.0</td>\n",
       "      <td>Not Reported</td>\n",
       "      <td>Going Straight</td>\n",
       "      <td>1:00pm-1:59pm</td>\n",
       "      <td>45.0</td>\n",
       "    </tr>\n",
       "    <tr>\n",
       "      <th>3</th>\n",
       "      <td>West (MT, ID, WA, OR, CA, NV, NM, AZ, UT, CO, ...</td>\n",
       "      <td>Rural Area</td>\n",
       "      <td>Compact Utility (Utility Vehicle Categories \"S...</td>\n",
       "      <td>2015</td>\n",
       "      <td>Two-Way,  Divided, Positive  Median Barrier</td>\n",
       "      <td>Two lanes</td>\n",
       "      <td>Snow</td>\n",
       "      <td>No Controls</td>\n",
       "      <td>Not an Intersection</td>\n",
       "      <td>Yes</td>\n",
       "      <td>...</td>\n",
       "      <td>Daylight</td>\n",
       "      <td>No Apparent Injury (O)</td>\n",
       "      <td>No Alcohol Involved</td>\n",
       "      <td>20</td>\n",
       "      <td>Male</td>\n",
       "      <td>65.0</td>\n",
       "      <td>Shoulder and Lap Belt Used</td>\n",
       "      <td>Going Straight</td>\n",
       "      <td>2:00pm-2:59pm</td>\n",
       "      <td>80.0</td>\n",
       "    </tr>\n",
       "    <tr>\n",
       "      <th>4</th>\n",
       "      <td>Northeast (PA, NJ, NY, NH, VT, RI, MA, ME, CT)</td>\n",
       "      <td>Rural Area</td>\n",
       "      <td>Station Wagon (excluding van and truck based)</td>\n",
       "      <td>2004</td>\n",
       "      <td>Not Reported</td>\n",
       "      <td>Not Reported</td>\n",
       "      <td>Snow</td>\n",
       "      <td>Warning Sign</td>\n",
       "      <td>Not an Intersection</td>\n",
       "      <td>No</td>\n",
       "      <td>...</td>\n",
       "      <td>Dark - Not Lighted</td>\n",
       "      <td>No Apparent Injury (O)</td>\n",
       "      <td>No Alcohol Involved</td>\n",
       "      <td>23</td>\n",
       "      <td>Male</td>\n",
       "      <td>998.0</td>\n",
       "      <td>Shoulder and Lap Belt Used</td>\n",
       "      <td>Negotiating a Curve</td>\n",
       "      <td>5:00pm-5:59pm</td>\n",
       "      <td>50.0</td>\n",
       "    </tr>\n",
       "  </tbody>\n",
       "</table>\n",
       "<p>5 rows × 23 columns</p>\n",
       "</div>"
      ],
      "text/plain": [
       "                                          regionname urbanicityname  \\\n",
       "0  West (MT, ID, WA, OR, CA, NV, NM, AZ, UT, CO, ...     Rural Area   \n",
       "1  South (MD, DE, DC, WV, VA, KY, TN, NC, SC, GA,...     Urban Area   \n",
       "2  South (MD, DE, DC, WV, VA, KY, TN, NC, SC, GA,...     Urban Area   \n",
       "3  West (MT, ID, WA, OR, CA, NV, NM, AZ, UT, CO, ...     Rural Area   \n",
       "4     Northeast (PA, NJ, NY, NH, VT, RI, MA, ME, CT)     Rural Area   \n",
       "\n",
       "                                      body_typname_x mod_yearname_x  \\\n",
       "0                              4-door sedan, hardtop           2018   \n",
       "1                              4-door sedan, hardtop           2013   \n",
       "2                   Other or Unknown automobile type        Unknown   \n",
       "3  Compact Utility (Utility Vehicle Categories \"S...           2015   \n",
       "4      Station Wagon (excluding van and truck based)           2004   \n",
       "\n",
       "                                  vtrafwayname  vnum_lanname vsurcondname  \\\n",
       "0                         Two-Way, Not Divided    Five lanes         Snow   \n",
       "1                         Two-Way, Not Divided     Two lanes          Dry   \n",
       "2         Two-Way, Divided, Unprotected Median    Four lanes          Dry   \n",
       "3  Two-Way,  Divided, Positive  Median Barrier     Two lanes         Snow   \n",
       "4                                 Not Reported  Not Reported         Snow   \n",
       "\n",
       "                                        vtrafconname            typ_intname  \\\n",
       "0  Traffic control signal(on colors) not known wh...  Four-Way Intersection   \n",
       "1                                        No Controls    Not an Intersection   \n",
       "2                                        No Controls         T-Intersection   \n",
       "3                                        No Controls    Not an Intersection   \n",
       "4                                       Warning Sign    Not an Intersection   \n",
       "\n",
       "  int_hwyname  ...       lgtcon_imname               maxsev_imname  \\\n",
       "0          No  ...            Daylight      No Apparent Injury (O)   \n",
       "1          No  ...  Dark - Not Lighted  Suspected Minor Injury (B)   \n",
       "2          No  ...            Daylight      No Apparent Injury (O)   \n",
       "3         Yes  ...            Daylight      No Apparent Injury (O)   \n",
       "4          No  ...  Dark - Not Lighted      No Apparent Injury (O)   \n",
       "\n",
       "          alchl_imname age_im sex_imname trav_sp                rest_usename  \\\n",
       "0  No Alcohol Involved     61     Female    25.0  Shoulder and Lap Belt Used   \n",
       "1  No Alcohol Involved     23       Male    45.0  Shoulder and Lap Belt Used   \n",
       "2  No Alcohol Involved     27     Female    15.0                Not Reported   \n",
       "3  No Alcohol Involved     20       Male    65.0  Shoulder and Lap Belt Used   \n",
       "4  No Alcohol Involved     23       Male   998.0  Shoulder and Lap Belt Used   \n",
       "\n",
       "        pcrash1_imname    hour_imname vspd_lim  \n",
       "0       Going Straight  8:00am-8:59am     98.0  \n",
       "1       Going Straight  1:00am-1:59am     25.0  \n",
       "2       Going Straight  1:00pm-1:59pm     45.0  \n",
       "3       Going Straight  2:00pm-2:59pm     80.0  \n",
       "4  Negotiating a Curve  5:00pm-5:59pm     50.0  \n",
       "\n",
       "[5 rows x 23 columns]"
      ]
     },
     "execution_count": 136,
     "metadata": {},
     "output_type": "execute_result"
    }
   ],
   "source": [
    "df.head()"
   ]
  },
  {
   "cell_type": "code",
   "execution_count": 135,
   "id": "279f178e",
   "metadata": {},
   "outputs": [
    {
     "data": {
      "text/plain": [
       "regionname         0\n",
       "urbanicityname     0\n",
       "body_typname_x     0\n",
       "mod_yearname_x     0\n",
       "vtrafwayname      46\n",
       "vnum_lanname      46\n",
       "vsurcondname      46\n",
       "vtrafconname      46\n",
       "typ_intname        0\n",
       "int_hwyname        0\n",
       "weathername        0\n",
       "wkdy_imname        0\n",
       "reljct1_imname     0\n",
       "lgtcon_imname      0\n",
       "maxsev_imname      0\n",
       "alchl_imname       0\n",
       "age_im             0\n",
       "sex_imname         0\n",
       "trav_sp           46\n",
       "rest_usename       0\n",
       "pcrash1_imname    46\n",
       "hour_imname        0\n",
       "vspd_lim          46\n",
       "dtype: int64"
      ]
     },
     "execution_count": 135,
     "metadata": {},
     "output_type": "execute_result"
    }
   ],
   "source": [
    "# Check for NA values\n",
    "df.isnull().sum()"
   ]
  },
  {
   "cell_type": "markdown",
   "id": "82b7a24d",
   "metadata": {},
   "source": [
    "#### Region where crash occurred\n",
    "\n",
    "- Northeast (PA, NJ, NY, NH, VT, RI, MA, ME, CT)\n",
    "- West (MT, ID, WA, OR, CA, NV, NM, AZ, UT, CO, WY, AK, HI)\n",
    "- Midwest (OH, IN, IL, MI, WI, MN, ND, SD, NE, IA, MO, KS)\n",
    "- South (MD, DE, DC, WV, VA, KY, TN, NC, SC, GA, FL, AL, MS, LA, AR, OK, TX)\n"
   ]
  },
  {
   "cell_type": "code",
   "execution_count": 138,
   "id": "23581329",
   "metadata": {},
   "outputs": [
    {
     "data": {
      "text/plain": [
       "South        28393\n",
       "Midwest      10307\n",
       "West          9270\n",
       "Northeast     6503\n",
       "Name: regionname, dtype: int64"
      ]
     },
     "execution_count": 138,
     "metadata": {},
     "output_type": "execute_result"
    }
   ],
   "source": [
    "# regionname\n",
    "df[\"regionname\"] = df.loc[:,\"regionname\"].apply(lambda string: string.split()[0])\n",
    "df.regionname.value_counts()"
   ]
  },
  {
   "cell_type": "markdown",
   "id": "9a6b44be",
   "metadata": {},
   "source": [
    "#### Geographical area of the crash\n",
    "\n",
    "- Urban\n",
    "- Rural"
   ]
  },
  {
   "cell_type": "code",
   "execution_count": 139,
   "id": "7256b8be",
   "metadata": {},
   "outputs": [
    {
     "data": {
      "text/plain": [
       "Urban    40716\n",
       "Rural    13757\n",
       "Name: urbanicityname, dtype: int64"
      ]
     },
     "execution_count": 139,
     "metadata": {},
     "output_type": "execute_result"
    }
   ],
   "source": [
    "# urbanicityname\n",
    "df[\"urbanicityname\"] = df.loc[:,\"urbanicityname\"].apply(lambda string: string.split()[0])\n",
    "df.urbanicityname.value_counts()"
   ]
  },
  {
   "cell_type": "markdown",
   "id": "5b2b3802",
   "metadata": {},
   "source": [
    "#### Year of vehicle **(Continuous variable)**"
   ]
  },
  {
   "cell_type": "code",
   "execution_count": 132,
   "id": "9f743701",
   "metadata": {},
   "outputs": [
    {
     "data": {
      "text/plain": [
       "2016       3809\n",
       "2017       3724\n",
       "2019       3491\n",
       "2018       3360\n",
       "Unknown    2938\n",
       "           ... \n",
       "1972          1\n",
       "1932          1\n",
       "1953          1\n",
       "1959          1\n",
       "1969          1\n",
       "Name: mod_yearname_x, Length: 67, dtype: int64"
      ]
     },
     "execution_count": 132,
     "metadata": {},
     "output_type": "execute_result"
    }
   ],
   "source": [
    "# mod_yearname_x\n",
    "# Remove years below 1980 and unknown\n",
    "df.mod_yearname_x.value_counts()"
   ]
  },
  {
   "cell_type": "markdown",
   "id": "f2646b5d",
   "metadata": {},
   "source": [
    "#### Trafficway flow just prior to crash"
   ]
  },
  {
   "cell_type": "code",
   "execution_count": 144,
   "id": "e55aec76",
   "metadata": {},
   "outputs": [
    {
     "data": {
      "text/plain": [
       "vtrafwayname                                         \n",
       "Two-Way, Not Divided                                     23100\n",
       "Not Reported                                              9142\n",
       "Two-Way,  Divided, Positive  Median Barrier               8961\n",
       "Two-Way, Divided, Unprotected Median                      6879\n",
       "Two-Way, Not Divided With a Continuous Left-Turn Lane     1966\n",
       "Non-Trafficway or Driveway Access                         1939\n",
       "Entrance/Exit Ramp                                        1296\n",
       "One-Way Trafficway                                        1115\n",
       "Reported as Unknown                                         29\n",
       "dtype: int64"
      ]
     },
     "execution_count": 144,
     "metadata": {},
     "output_type": "execute_result"
    }
   ],
   "source": [
    "# vtrafwayname\n",
    "# did we use skl to bin this?\n",
    "df[['vtrafwayname']].value_counts()"
   ]
  },
  {
   "cell_type": "markdown",
   "id": "8a53c84b",
   "metadata": {},
   "source": [
    "#### Number of travel lanes just prior to crash. \n",
    "- Median: lanes in opposite directions are additive. \n",
    "- No median: lanes in traveling direction counts"
   ]
  },
  {
   "cell_type": "code",
   "execution_count": 143,
   "id": "4670dce9",
   "metadata": {},
   "outputs": [
    {
     "data": {
      "text/plain": [
       "vnum_lanname                     \n",
       "Two lanes                            19168\n",
       "Not Reported                         15557\n",
       "Three lanes                           6189\n",
       "Four lanes                            5078\n",
       "Five lanes                            3779\n",
       "Non-Trafficway or Driveway Access     1939\n",
       "Six lanes                             1295\n",
       "One lane                               970\n",
       "Seven or more lanes                    433\n",
       "Reported as Unknown                     19\n",
       "dtype: int64"
      ]
     },
     "execution_count": 143,
     "metadata": {},
     "output_type": "execute_result"
    }
   ],
   "source": [
    "# vnum_lanname\n",
    "# did we use skl to bin this?\n",
    "df[['vnum_lanname']].value_counts()"
   ]
  },
  {
   "cell_type": "markdown",
   "id": "fbee98ac",
   "metadata": {},
   "source": [
    "#### Roadway surface condition just prior to crash"
   ]
  },
  {
   "cell_type": "code",
   "execution_count": 142,
   "id": "31e10a31",
   "metadata": {},
   "outputs": [
    {
     "data": {
      "text/plain": [
       "vsurcondname                     \n",
       "Dry                                  40702\n",
       "Wet                                   7085\n",
       "Not Reported                          3420\n",
       "Non-Trafficway or Driveway Access     1939\n",
       "Snow                                   512\n",
       "Ice/Frost                              336\n",
       "Reported as Unknown                    110\n",
       "Water (Standing or Moving)             104\n",
       "Slush                                   98\n",
       "Mud, Dirt or Gravel                     93\n",
       "Sand                                    16\n",
       "Other                                    8\n",
       "Oil                                      4\n",
       "dtype: int64"
      ]
     },
     "execution_count": 142,
     "metadata": {},
     "output_type": "execute_result"
    }
   ],
   "source": [
    "# vsurcondname\n",
    "# did we use skl to bin this?\n",
    "df[['vsurcondname']].value_counts()"
   ]
  },
  {
   "cell_type": "markdown",
   "id": "ada0e7e3",
   "metadata": {},
   "source": [
    "#### Traffic controls in the vehicle’s environment just prior to crash"
   ]
  },
  {
   "cell_type": "code",
   "execution_count": 141,
   "id": "eeaa0010",
   "metadata": {},
   "outputs": [
    {
     "data": {
      "text/plain": [
       "vtrafconname                                                                \n",
       "No Controls                                                                     27471\n",
       "Traffic control signal(on colors) not known whether or not Pedestrian Signal    11300\n",
       "Not Reported                                                                     8458\n",
       "Stop Sign                                                                        5049\n",
       "Yield Sign                                                                        593\n",
       "Traffic control signal (on colors) with Pedestrian Signal                         581\n",
       "Warning Sign                                                                      261\n",
       "Traffic control signal (on colors) without Pedestrian Signal                      191\n",
       "Flashing Traffic Control Signal                                                   135\n",
       "Other Regulatory Sign                                                             101\n",
       "Other                                                                              70\n",
       "Reported as Unknown                                                                60\n",
       "Railway Crossing Device                                                            55\n",
       "Person                                                                             54\n",
       "School Zone Sign/Device                                                            17\n",
       "Other Highway Traffic Signal                                                       17\n",
       "Lane Use Control Signal                                                            10\n",
       "Unknown Highway Traffic Signal                                                      3\n",
       "Unknown Regulatory Sign                                                             1\n",
       "dtype: int64"
      ]
     },
     "execution_count": 141,
     "metadata": {},
     "output_type": "execute_result"
    }
   ],
   "source": [
    "# vtrafconname\n",
    "# did we use skl to bin this?\n",
    "df[['vtrafconname']].value_counts()"
   ]
  },
  {
   "cell_type": "markdown",
   "id": "c7ca5472",
   "metadata": {},
   "source": [
    "#### Did crash occur at intersection"
   ]
  },
  {
   "cell_type": "code",
   "execution_count": 140,
   "id": "88b7347e",
   "metadata": {},
   "outputs": [
    {
     "data": {
      "text/plain": [
       "int_hwyname\n",
       "No             49471\n",
       "Yes             4995\n",
       "Unknown            7\n",
       "dtype: int64"
      ]
     },
     "execution_count": 140,
     "metadata": {},
     "output_type": "execute_result"
    }
   ],
   "source": [
    "# int_hwyname\n",
    "df[['int_hwyname']].value_counts()"
   ]
  },
  {
   "cell_type": "code",
   "execution_count": 145,
   "id": "9a17d573",
   "metadata": {},
   "outputs": [
    {
     "data": {
      "text/plain": [
       "int_hwyname\n",
       "No             49471\n",
       "Yes             4995\n",
       "dtype: int64"
      ]
     },
     "execution_count": 145,
     "metadata": {},
     "output_type": "execute_result"
    }
   ],
   "source": [
    "# Drop observations with Unknown\n",
    "df.drop(df[df['int_hwyname'] == 'Unknown'].index, inplace = True)\n",
    "df[['int_hwyname']].value_counts()"
   ]
  },
  {
   "cell_type": "markdown",
   "id": "536c4063",
   "metadata": {},
   "source": [
    "#### Name of weekday where crash occurred"
   ]
  },
  {
   "cell_type": "code",
   "execution_count": 116,
   "id": "b802bc03",
   "metadata": {},
   "outputs": [
    {
     "data": {
      "text/plain": [
       "Friday       8998\n",
       "Thursday     8238\n",
       "Wednesday    8120\n",
       "Tuesday      7787\n",
       "Saturday     7579\n",
       "Monday       7466\n",
       "Sunday       6285\n",
       "Name: wkdy_imname, dtype: int64"
      ]
     },
     "execution_count": 116,
     "metadata": {},
     "output_type": "execute_result"
    }
   ],
   "source": [
    "# wkdy_imname\n",
    "df.wkdy_imname.value_counts()"
   ]
  },
  {
   "cell_type": "markdown",
   "id": "6d096c57",
   "metadata": {},
   "source": [
    "#### Relation to junction (crash's location with respect to presence in an interchange area)"
   ]
  },
  {
   "cell_type": "code",
   "execution_count": 120,
   "id": "294f483e",
   "metadata": {},
   "outputs": [
    {
     "data": {
      "text/plain": [
       "No     50837\n",
       "Yes     3636\n",
       "Name: reljct1_imname, dtype: int64"
      ]
     },
     "execution_count": 120,
     "metadata": {},
     "output_type": "execute_result"
    }
   ],
   "source": [
    "# reljct1_imname\n",
    "df.reljct1_imname.value_counts()"
   ]
  },
  {
   "cell_type": "markdown",
   "id": "2386f885",
   "metadata": {},
   "source": [
    "#### Lighting condition during time of crash"
   ]
  },
  {
   "cell_type": "code",
   "execution_count": 119,
   "id": "fd0262d9",
   "metadata": {},
   "outputs": [
    {
     "data": {
      "text/plain": [
       "Daylight                   36245\n",
       "Dark - Lighted              9520\n",
       "Dark - Not Lighted          6072\n",
       "Dusk                        1401\n",
       "Dawn                         837\n",
       "Dark - Unknown Lighting      385\n",
       "Other                         13\n",
       "Name: lgtcon_imname, dtype: int64"
      ]
     },
     "execution_count": 119,
     "metadata": {},
     "output_type": "execute_result"
    }
   ],
   "source": [
    "# lgtcon_imname\n",
    "df.lgtcon_imname.value_counts()"
   ]
  },
  {
   "cell_type": "markdown",
   "id": "1d3362f3",
   "metadata": {},
   "source": [
    "#### Alcohol state of driver"
   ]
  },
  {
   "cell_type": "code",
   "execution_count": 118,
   "id": "b783fd02",
   "metadata": {},
   "outputs": [
    {
     "data": {
      "text/plain": [
       "No Alcohol Involved    50263\n",
       "Alcohol Involved        4210\n",
       "Name: alchl_imname, dtype: int64"
      ]
     },
     "execution_count": 118,
     "metadata": {},
     "output_type": "execute_result"
    }
   ],
   "source": [
    "# alchl_imname\n",
    "df.alchl_imname.value_counts()"
   ]
  },
  {
   "cell_type": "markdown",
   "id": "949121f1",
   "metadata": {},
   "source": [
    "#### Age of driver **(Continuous)**"
   ]
  },
  {
   "cell_type": "code",
   "execution_count": null,
   "id": "c1fd948d",
   "metadata": {},
   "outputs": [],
   "source": [
    "# age_im\n",
    "# did we do any cleaning here?\n",
    "# I think we removed observations below 15 years old?\n",
    "# Should we bin 80+ or leave as is?"
   ]
  },
  {
   "cell_type": "markdown",
   "id": "020929e9",
   "metadata": {},
   "source": [
    "#### Sex of driver"
   ]
  },
  {
   "cell_type": "code",
   "execution_count": 117,
   "id": "56990deb",
   "metadata": {},
   "outputs": [
    {
     "data": {
      "text/plain": [
       "Male      33902\n",
       "Female    20571\n",
       "Name: sex_imname, dtype: int64"
      ]
     },
     "execution_count": 117,
     "metadata": {},
     "output_type": "execute_result"
    }
   ],
   "source": [
    "# sex_imname\n",
    "df.sex_imname.value_counts()"
   ]
  },
  {
   "cell_type": "markdown",
   "id": "dc945fef",
   "metadata": {},
   "source": [
    "#### Traveling speed of vehicle **(Continuous)**"
   ]
  },
  {
   "cell_type": "code",
   "execution_count": null,
   "id": "8a0e506c",
   "metadata": {},
   "outputs": [],
   "source": [
    "# trav_sp\n",
    "# Did we do any cleaning here? "
   ]
  },
  {
   "cell_type": "markdown",
   "id": "2ea7d7e4",
   "metadata": {},
   "source": [
    "### Newly derived features or careful binning of existing features"
   ]
  },
  {
   "cell_type": "markdown",
   "id": "72c2bfe1",
   "metadata": {},
   "source": [
    "#### Speeding status of driver (Braden) (Derived feature)"
   ]
  },
  {
   "cell_type": "code",
   "execution_count": null,
   "id": "a8e60b43",
   "metadata": {},
   "outputs": [],
   "source": [
    "# code here"
   ]
  },
  {
   "cell_type": "markdown",
   "id": "dcd13646",
   "metadata": {},
   "source": [
    "#### Time of accident, hours binned (Braden) (Derived feature)\n",
    "\n",
    "- Morning (6am-noon)\n",
    "- Afternoon (noon-6pm)\n",
    "- Evening (6pm-midnight)\n",
    "- Night (midnight-6am)']"
   ]
  },
  {
   "cell_type": "code",
   "execution_count": null,
   "id": "6f0a8639",
   "metadata": {},
   "outputs": [],
   "source": [
    "# code here"
   ]
  },
  {
   "cell_type": "markdown",
   "id": "2396d555",
   "metadata": {},
   "source": [
    "#### Body type of vehicle (Tavin) (Careful binning)"
   ]
  },
  {
   "cell_type": "code",
   "execution_count": null,
   "id": "90969f56",
   "metadata": {},
   "outputs": [],
   "source": [
    "# code here"
   ]
  },
  {
   "cell_type": "markdown",
   "id": "107ac74f",
   "metadata": {},
   "source": [
    "#### Type of intersection (Careful binning)"
   ]
  },
  {
   "cell_type": "code",
   "execution_count": 161,
   "id": "15be7586",
   "metadata": {},
   "outputs": [
    {
     "data": {
      "text/plain": [
       "Not an Intersection        30234\n",
       "Four-Way Intersection      13458\n",
       "T-Intersection              5569\n",
       "Not Reported                4484\n",
       "Y-Intersection               170\n",
       "Five Point, or More          160\n",
       "Roundabout                   143\n",
       "Traffic Circle                37\n",
       "L-Intersection                22\n",
       "Other Intersection Type        6\n",
       "Reported as Unknown            2\n",
       "Name: typ_intname, dtype: int64"
      ]
     },
     "execution_count": 161,
     "metadata": {},
     "output_type": "execute_result"
    }
   ],
   "source": [
    "df.typ_intname.value_counts()"
   ]
  },
  {
   "cell_type": "code",
   "execution_count": 162,
   "id": "09a30e1f",
   "metadata": {},
   "outputs": [
    {
     "data": {
      "text/plain": [
       "No       30234\n",
       "Yes      19565\n",
       "Other     4486\n",
       "Name: intersection_binned, dtype: int64"
      ]
     },
     "execution_count": 162,
     "metadata": {},
     "output_type": "execute_result"
    }
   ],
   "source": [
    "def intersection_category(row):\n",
    "    if row == 'Not an Intersection':\n",
    "        result = 'No'\n",
    "    elif row == 'Reported as Unknown':\n",
    "        result = 'Other'\n",
    "    elif row == 'Not Reported':\n",
    "        result = 'Other'\n",
    "    else:\n",
    "        result = 'Yes'\n",
    "    return result\n",
    "\n",
    "df['intersection_binned'] = df['typ_intname'].apply(intersection_category)\n",
    "df.intersection_binned.value_counts()"
   ]
  },
  {
   "cell_type": "markdown",
   "id": "f840c810",
   "metadata": {},
   "source": [
    "#### Weather during time of crash (Careful binning)"
   ]
  },
  {
   "cell_type": "code",
   "execution_count": null,
   "id": "6a4881de",
   "metadata": {},
   "outputs": [
    {
     "data": {
      "text/plain": [
       "Clear                       38171\n",
       "Cloudy                       7151\n",
       "Rain                         4949\n",
       "Not Reported                 2745\n",
       "Snow                          775\n",
       "Fog, Smog, Smoke              227\n",
       "Reported as Unknown           113\n",
       "Severe Crosswinds              48\n",
       "Blowing Snow                   32\n",
       "Sleet or Hail                  31\n",
       "Other                          21\n",
       "Freezing Rain or Drizzle       19\n",
       "Blowing Sand, Soil, Dirt        3\n",
       "Name: weathername, dtype: int64"
      ]
     },
     "metadata": {},
     "output_type": "display_data"
    }
   ],
   "source": [
    "# weathername\n",
    "df.weathername.value_counts()"
   ]
  },
  {
   "cell_type": "code",
   "execution_count": 147,
   "id": "6cae44a4",
   "metadata": {},
   "outputs": [
    {
     "data": {
      "text/plain": [
       "Clear        38313\n",
       "Not Clear     7387\n",
       "Rain          4966\n",
       "Other         2887\n",
       "Wintery        862\n",
       "Windy           51\n",
       "Name: weather_binned, dtype: int64"
      ]
     },
     "execution_count": 147,
     "metadata": {},
     "output_type": "execute_result"
    }
   ],
   "source": [
    "def weather_cat(row):\n",
    "    if row == 'Cloudy':\n",
    "        return 'Not Clear'\n",
    "    elif row == 'Fog, Smog, Smoke':\n",
    "        return 'Not Clear' \n",
    "    elif row == 'Snow':\n",
    "        return 'Wintery'\n",
    "    elif row == 'Blowing Snow':\n",
    "        return 'Wintery'\n",
    "    elif row == 'Sleet or Hail':\n",
    "        return 'Wintery'\n",
    "    elif row == 'Freezing Rain or Drizzle':\n",
    "        return 'Wintery'\n",
    "    elif row == 'Severe Crosswinds':\n",
    "        return 'Windy'\n",
    "    elif row == 'Blowing Sand, Soil, Dirt':\n",
    "        return 'Windy'\n",
    "    elif row == 'Clear':\n",
    "        return 'Clear'\n",
    "    elif row == 'Rain':\n",
    "        return 'Rain'\n",
    "    else:\n",
    "        return 'Other'\n",
    "df['weather_binned'] = df['weathername'].apply(weather_cat)\n",
    "df.weather_binned.value_counts()"
   ]
  },
  {
   "cell_type": "markdown",
   "id": "b68c4a4c",
   "metadata": {},
   "source": [
    "#### Restraint use by driver (Newly added feature)"
   ]
  },
  {
   "cell_type": "code",
   "execution_count": 106,
   "id": "f7170273",
   "metadata": {},
   "outputs": [
    {
     "data": {
      "text/plain": [
       "rest_usename                 \n",
       "Shoulder and Lap Belt Used       40893\n",
       "None Used/Not Applicable          4979\n",
       "Reported as Unknown               4897\n",
       "Not Reported                      2806\n",
       "Lap Belt Only Used                 429\n",
       "Shoulder Belt Only Used            336\n",
       "Restraint Used - Type Unknown      120\n",
       "Other                                5\n",
       "Child Restraint Type Unknown         1\n",
       "dtype: int64"
      ]
     },
     "execution_count": 106,
     "metadata": {},
     "output_type": "execute_result"
    }
   ],
   "source": [
    "# rest_use\n",
    "df[['rest_usename']].value_counts()"
   ]
  },
  {
   "cell_type": "code",
   "execution_count": 148,
   "id": "c03c1775",
   "metadata": {},
   "outputs": [
    {
     "data": {
      "text/plain": [
       "restraint_binned\n",
       "Full                40893\n",
       "Other                7709\n",
       "None                 4979\n",
       "Minimal               885\n",
       "dtype: int64"
      ]
     },
     "execution_count": 148,
     "metadata": {},
     "output_type": "execute_result"
    }
   ],
   "source": [
    "# rest_use: bin into none, minimal, full, other\n",
    "def restraint_category(row):\n",
    "    if row == 'Shoulder and Lap Belt Used':\n",
    "        result = 'Full'\n",
    "    elif row == 'None Used/Not Applicable':\n",
    "        result = 'None'    \n",
    "    elif row == 'Lap Belt Only Used':\n",
    "        result = 'Minimal'\n",
    "    elif row == 'Shoulder Belt Only Used':\n",
    "        result = 'Minimal'\n",
    "    elif row == 'Restraint Used - Type Unknown':\n",
    "        result = 'Minimal'\n",
    "    else:\n",
    "        result = 'Other'\n",
    "    return result\n",
    "\n",
    "df['restraint_binned'] = df['rest_usename'].apply(restraint_category)\n",
    "df[['restraint_binned']].value_counts()"
   ]
  },
  {
   "cell_type": "markdown",
   "id": "8c266993",
   "metadata": {},
   "source": [
    "#### What driver was doing right before crash (Newly added feature)"
   ]
  },
  {
   "cell_type": "code",
   "execution_count": 115,
   "id": "c8ba9736",
   "metadata": {},
   "outputs": [
    {
     "data": {
      "text/plain": [
       "Going Straight                                                30314\n",
       "Turning Left                                                   7462\n",
       "Negotiating a Curve                                            4344\n",
       "Changing Lanes                                                 3135\n",
       "Turning Right                                                  2875\n",
       "Stopped in Roadway                                             1288\n",
       "Decelerating in Road                                           1136\n",
       "Backing Up (other than for Parking Position)                   1032\n",
       "Passing or Overtaking Another Vehicle                           827\n",
       "Starting in Road                                                659\n",
       "Making a U-turn                                                 487\n",
       "Merging                                                         286\n",
       "Leaving a Parking Position                                      200\n",
       "Entering a Parking Position                                     123\n",
       "Accelerating in Road                                            112\n",
       "Other(specify:)                                                  91\n",
       "Disabled or \"Parked\" in Travel lane                              30\n",
       "No Driver Present / Unknown if Driver Present                    14\n",
       "Successful Avoidance Maneuver to a Previous Critical Event       12\n",
       "Name: pcrash1_imname, dtype: int64"
      ]
     },
     "execution_count": 115,
     "metadata": {},
     "output_type": "execute_result"
    }
   ],
   "source": [
    "# pcrash1_imname\n",
    "df.pcrash1_imname.value_counts()"
   ]
  },
  {
   "cell_type": "markdown",
   "id": "38e2108e",
   "metadata": {},
   "source": [
    "#### **Response variable:** Maximum injury severity of driver (Careful binning)"
   ]
  },
  {
   "cell_type": "code",
   "execution_count": 66,
   "id": "832350d5",
   "metadata": {},
   "outputs": [
    {
     "data": {
      "text/plain": [
       "No Apparent Injury (O)          24059\n",
       "Possible Injury (C)             12590\n",
       "Suspected Minor Injury (B)       9782\n",
       "Suspected Serious Injury (A)     6446\n",
       "Fatal Injury (K)                 1415\n",
       "Injured, Severity Unknown         180\n",
       "Died Prior to Crash*                1\n",
       "Name: maxsev_imname, dtype: int64"
      ]
     },
     "execution_count": 66,
     "metadata": {},
     "output_type": "execute_result"
    }
   ],
   "source": [
    "# maxsev_imname\n",
    "df.maxsev_imname.value_counts()"
   ]
  },
  {
   "cell_type": "code",
   "execution_count": 149,
   "id": "29a82c41",
   "metadata": {},
   "outputs": [
    {
     "data": {
      "text/plain": [
       "No Apparent Injury          24057\n",
       "Possible Injury             12589\n",
       "Suspected Minor Injury       9781\n",
       "Suspected Serious Injury     6445\n",
       "Fatal Injury                 1413\n",
       "Name: maxsev_imname, dtype: int64"
      ]
     },
     "execution_count": 149,
     "metadata": {},
     "output_type": "execute_result"
    }
   ],
   "source": [
    "# Remove Injured, Severity Unknown and Died Prior to Crash \n",
    "remove = ['Injured, Severity Unknown', 'Died Prior to Crash*']\n",
    "df = df[df.maxsev_imname.isin(remove) == False]\n",
    "df['maxsev_imname'] = df['maxsev_imname'].str[:-4]\n",
    "df.maxsev_imname.value_counts()"
   ]
  },
  {
   "cell_type": "code",
   "execution_count": 87,
   "id": "49050764",
   "metadata": {},
   "outputs": [
    {
     "data": {
      "text/plain": [
       "Not Fatal Injury    46431\n",
       "Fatal Injury         7861\n",
       "Name: maxsev_binned, dtype: int64"
      ]
     },
     "execution_count": 87,
     "metadata": {},
     "output_type": "execute_result"
    }
   ],
   "source": [
    "# Combine No Apparent Injury, Possible Injury, Suspected Minor Injury into one bin\n",
    "# Combine Suspected Serious Injury and Fatal Injury into one bin\n",
    "df['maxsev_binned'] = df['maxsev_imname'].replace(['Suspected Fatal Injury'], 'Fatal Injury')\n",
    "df['maxsev_binned'] = df['maxsev_imname'].replace(['No Apparent Injury', 'Possible Injury', 'Suspected Minor Injury'], 'Not Fatal Injury')\n",
    "df.maxsev_binned.value_counts()\n"
   ]
  },
  {
   "cell_type": "markdown",
   "id": "adfd5ce3",
   "metadata": {},
   "source": [
    "### End of data cleaning. Review final dataset"
   ]
  },
  {
   "cell_type": "code",
   "execution_count": 164,
   "id": "2ea531a6",
   "metadata": {},
   "outputs": [],
   "source": [
    "# Remove features that are not useful for modeling or redundant post binning\n",
    "df = df[df.columns.difference(['body_typname_x', 'typ_intname', 'weathername', 'rest_usename', 'hour_imname', 'vspd_lim'])]"
   ]
  },
  {
   "cell_type": "code",
   "execution_count": 153,
   "id": "dc714908",
   "metadata": {},
   "outputs": [
    {
     "data": {
      "text/plain": [
       "0"
      ]
     },
     "execution_count": 153,
     "metadata": {},
     "output_type": "execute_result"
    }
   ],
   "source": [
    "# Check for duplicates\n",
    "# Recall duplicated casenum was taken cared of during merge\n",
    "# Here we check for duplicates of instances excluding `casenum`\n",
    "df.duplicated().sum()"
   ]
  },
  {
   "cell_type": "code",
   "execution_count": 134,
   "id": "0d624cc7",
   "metadata": {},
   "outputs": [],
   "source": [
    "# Confirm there are zero NA values\n",
    "df.isnull().sum()"
   ]
  },
  {
   "cell_type": "code",
   "execution_count": null,
   "id": "b91a3abb",
   "metadata": {},
   "outputs": [],
   "source": [
    "df.info()"
   ]
  },
  {
   "cell_type": "code",
   "execution_count": null,
   "id": "56eb624a",
   "metadata": {},
   "outputs": [],
   "source": [
    "display(df)"
   ]
  },
  {
   "cell_type": "markdown",
   "id": "63a576ab",
   "metadata": {},
   "source": [
    "## Begin data preprocessing"
   ]
  },
  {
   "cell_type": "code",
   "execution_count": null,
   "id": "08145813-73f1-4d7a-bfd6-8606dbba79b9",
   "metadata": {},
   "outputs": [],
   "source": [
    "# code to scale features"
   ]
  },
  {
   "cell_type": "code",
   "execution_count": null,
   "id": "bbef9bdb-33fb-440c-97f1-b11efaf67494",
   "metadata": {},
   "outputs": [],
   "source": [
    "# code for one hot encode"
   ]
  },
  {
   "cell_type": "code",
   "execution_count": null,
   "id": "49c078d3-c0a2-4eaa-b54c-5685fbb97d23",
   "metadata": {},
   "outputs": [],
   "source": [
    "# list of features with representation (int, float, one-hot)"
   ]
  },
  {
   "cell_type": "code",
   "execution_count": null,
   "id": "2097c379-9be9-4c62-b99a-f695adc078b1",
   "metadata": {},
   "outputs": [],
   "source": [
    "# code for feature selection: random forest feature importance"
   ]
  },
  {
   "cell_type": "code",
   "execution_count": null,
   "id": "3bbbfb4b-c5bd-4816-bcac-04a1e8f48330",
   "metadata": {},
   "outputs": [],
   "source": [
    "# code for feature selection: selectkbest"
   ]
  },
  {
   "cell_type": "code",
   "execution_count": null,
   "id": "8c49e709-215f-493a-9072-0077ca4ad451",
   "metadata": {},
   "outputs": [],
   "source": [
    "# code for feature selection: mutual information"
   ]
  },
  {
   "cell_type": "markdown",
   "id": "ff945102-b71e-43aa-939a-928626b33371",
   "metadata": {},
   "source": [
    "# Data Preparation Part 2\n",
    "Describe the final dataset that is used for classification/regression (include a description of any newly formed variables you created).\n",
    "(5)"
   ]
  },
  {
   "cell_type": "code",
   "execution_count": null,
   "id": "46f0b5c7-a016-4e61-9ff2-f2d193c22067",
   "metadata": {},
   "outputs": [],
   "source": [
    "df.info()"
   ]
  },
  {
   "cell_type": "code",
   "execution_count": null,
   "id": "92c275e7",
   "metadata": {},
   "outputs": [],
   "source": [
    "display(df)"
   ]
  },
  {
   "cell_type": "code",
   "execution_count": null,
   "id": "238a6cdc-77e0-4f3a-b864-f38e3a643995",
   "metadata": {},
   "outputs": [],
   "source": [
    "# table of feature description"
   ]
  },
  {
   "cell_type": "markdown",
   "id": "6a80e3b7-a078-40ad-97b8-ecc6bc4fc91b",
   "metadata": {},
   "source": [
    "# Model and Evaluation 1\n",
    "- Choose and explain your evaluation metrics that you will use (i.e., accuracy, precision, recall, F-measure, or any metric we have discussed). \n",
    "- Why are the measure(s) appropriate for analyzing the results of your modeling? Give a detailed explanation backing up any assertions.\n",
    "(10)\n",
    "\n",
    "**Classification:** \n",
    "The evaluation metric to classify driver's injury severity is F1. This is an appropriate metric because the response, injury severity, is a categorical variable. Due to the class imbalance, metrics such as accuracy is not desirable because the model could have a high no-information-rate i.e., choose the most populous category and be correct most of the time.\n",
    "\n",
    "**Regression:**\n",
    "The evaluation metric to classify driver's age is MSE. This is an appropriate metric because the response, age, is a continuous variable."
   ]
  },
  {
   "cell_type": "markdown",
   "id": "e4c611f7-9bbd-4c70-9592-81d8429a3843",
   "metadata": {},
   "source": [
    "# Model and Evaluation 2\n",
    "- Choose the method you will use for dividing your data into training and testing splits (i.e., are you using Stratified 10-fold cross validation? Why?). \n",
    "- Explain why your chosen method is appropriate or use more than one method as appropriate. For example, if you are using time series data then you should be using continuous training and testing sets across time.\n",
    "(10)\n",
    "\n",
    "**Classification:** \n",
    "The method used to divide the data into train and test split is xxx because xxx.\n",
    "\n",
    "**Regression:**\n",
    "The method used to divide the data into train and test split is xxx because xxx. "
   ]
  },
  {
   "cell_type": "code",
   "execution_count": null,
   "id": "5b8dfa80-f5b7-4165-8bde-5fe1f2c1a2dc",
   "metadata": {},
   "outputs": [],
   "source": [
    "# code to split data here"
   ]
  },
  {
   "cell_type": "markdown",
   "id": "c05fdd8d-d02e-4234-94ed-ecd1729401a4",
   "metadata": {},
   "source": [
    "# Model and Evaluation 3\n",
    "- Create three different classification/regression models for each task (e.g., random forest, KNN, and SVM for task one and the same or different algorithms for task two). \n",
    "- Two modeling techniques must be new (but the third could be SVM or logistic regression). \n",
    "- Adjust parameters as appropriate to increase generalization performance using your chosen metric. \n",
    "- You must investigate different parameters of the algorithms!\n",
    "(20)"
   ]
  },
  {
   "cell_type": "markdown",
   "id": "3e1e01da-6f1b-4c1a-aee2-466c7fb8d2c4",
   "metadata": {},
   "source": [
    "## Classification"
   ]
  },
  {
   "cell_type": "code",
   "execution_count": null,
   "id": "6c59954e-bf72-4b38-99f9-055b9e197301",
   "metadata": {},
   "outputs": [],
   "source": []
  },
  {
   "cell_type": "markdown",
   "id": "102d0f4a",
   "metadata": {},
   "source": [
    "### Random Forest for Classification"
   ]
  },
  {
   "cell_type": "code",
   "execution_count": null,
   "id": "dde49c46",
   "metadata": {},
   "outputs": [],
   "source": []
  },
  {
   "cell_type": "markdown",
   "id": "5fb234a5",
   "metadata": {},
   "source": [
    "### kNN for Classification"
   ]
  },
  {
   "cell_type": "code",
   "execution_count": null,
   "id": "d16b3e85",
   "metadata": {},
   "outputs": [],
   "source": []
  },
  {
   "cell_type": "markdown",
   "id": "36b931ca",
   "metadata": {},
   "source": [
    "### SVM for Classification"
   ]
  },
  {
   "cell_type": "code",
   "execution_count": null,
   "id": "dca2f906",
   "metadata": {},
   "outputs": [],
   "source": []
  },
  {
   "cell_type": "markdown",
   "id": "59456ac4-9247-442e-98e3-2836b6292b59",
   "metadata": {},
   "source": [
    "## Regression"
   ]
  },
  {
   "cell_type": "code",
   "execution_count": null,
   "id": "8fac5a7f-5251-4464-8dcf-3f161b823e3a",
   "metadata": {},
   "outputs": [],
   "source": []
  },
  {
   "cell_type": "markdown",
   "id": "1af8e4c5",
   "metadata": {},
   "source": [
    "### Random Forest for Regression"
   ]
  },
  {
   "cell_type": "code",
   "execution_count": null,
   "id": "3da8843b-f8fe-4f57-b22c-daf2bda911c7",
   "metadata": {},
   "outputs": [],
   "source": []
  },
  {
   "cell_type": "markdown",
   "id": "fff7551d",
   "metadata": {},
   "source": [
    "### Model 2 for Regression"
   ]
  },
  {
   "cell_type": "code",
   "execution_count": null,
   "id": "42747aa2",
   "metadata": {},
   "outputs": [],
   "source": []
  },
  {
   "cell_type": "markdown",
   "id": "22405b43",
   "metadata": {},
   "source": [
    "### Model 3 for Regression"
   ]
  },
  {
   "cell_type": "code",
   "execution_count": null,
   "id": "2ab1ff03",
   "metadata": {},
   "outputs": [],
   "source": []
  },
  {
   "cell_type": "markdown",
   "id": "ef1bb6a5-38d8-4cec-b6d5-4a85eaa5adf5",
   "metadata": {},
   "source": [
    "# Model and Evaluation 4\n",
    "- Analyze the results using your chosen method of evaluation. \n",
    "- Use visualizations of the results to bolster the analysis. \n",
    "- Explain any visuals and analyze why they are interesting to someone that might use this model.\n",
    "(10)"
   ]
  },
  {
   "cell_type": "code",
   "execution_count": null,
   "id": "17130637-287c-4f38-bd1a-0b5bb31c040a",
   "metadata": {},
   "outputs": [],
   "source": []
  },
  {
   "cell_type": "code",
   "execution_count": null,
   "id": "fa36422b-c0c4-4f2e-91a5-678721e17fde",
   "metadata": {},
   "outputs": [],
   "source": []
  },
  {
   "cell_type": "markdown",
   "id": "3d3e248b-338f-413a-9dcd-aa1fda118cb5",
   "metadata": {},
   "source": [
    "# Model and Evaluation 5\n",
    "- Discuss the advantages of each model for each classification task, if any. \n",
    "- If there are not advantages, explain why. Is any model better than another? \n",
    "- Is the difference significant with 95% confidence? Use proper statistical comparison methods. \n",
    "- You must use statistical comparison techniques—be sure they are appropriate for your chosen method of validation as discussed in unit 7 of the course.\n",
    "(10)"
   ]
  },
  {
   "cell_type": "code",
   "execution_count": null,
   "id": "d8465d18-554b-4265-821c-6e458552722f",
   "metadata": {},
   "outputs": [],
   "source": []
  },
  {
   "cell_type": "code",
   "execution_count": null,
   "id": "8baa2a71-3e66-4a3a-9716-0ff99ce3246b",
   "metadata": {},
   "outputs": [],
   "source": []
  },
  {
   "cell_type": "markdown",
   "id": "234c3b0f-a448-4b80-ab2e-90128b4da541",
   "metadata": {},
   "source": [
    "# Model and Evaluation 6 \n",
    "- Which attributes from your analysis are most important? \n",
    "- Use proper methods discussed in class to evaluate the importance of different attributes. \n",
    "- Discuss the results and hypothesize about why certain attributes are more important than others for a given classification task.\n",
    "(10)"
   ]
  },
  {
   "cell_type": "code",
   "execution_count": null,
   "id": "1e44eda7-999d-4ca5-869c-16cbe4e81c30",
   "metadata": {},
   "outputs": [],
   "source": []
  },
  {
   "cell_type": "code",
   "execution_count": null,
   "id": "e55e040e-75b4-44b8-a8f2-e888b9ba43d7",
   "metadata": {},
   "outputs": [],
   "source": []
  },
  {
   "cell_type": "markdown",
   "id": "57a7c155-d9d0-4c69-b749-1f8395f18165",
   "metadata": {},
   "source": [
    "# Deployment\n",
    "- How useful is your model for interested parties (i.e., the companies or organizations that might want to use it for prediction)? \n",
    "- How would you measure the model's value if it was used by these parties? \n",
    "- How would your deploy your model for interested parties? \n",
    "- What other data should be collected? How often would the model need to be updated, etc.? \n",
    "(5)"
   ]
  },
  {
   "cell_type": "code",
   "execution_count": null,
   "id": "2048bc4e-eaed-4fcd-b042-2401cb39e454",
   "metadata": {},
   "outputs": [],
   "source": []
  },
  {
   "cell_type": "code",
   "execution_count": null,
   "id": "110b1396-13bb-4853-8eae-829e6e8e1035",
   "metadata": {},
   "outputs": [],
   "source": []
  },
  {
   "cell_type": "markdown",
   "id": "9c97ea97-8fec-4f8b-b2d5-b54a9c43c8a3",
   "metadata": {},
   "source": [
    "# Exceptional Work\n",
    "- You have free reign to provide additional analyses. \n",
    "- One idea: grid search parameters in a parallelized fashion and visualize the performances across attributes. \n",
    "- Which parameters are most significant for making a good model for each classification algorithm?\n",
    "(10)"
   ]
  },
  {
   "cell_type": "code",
   "execution_count": null,
   "id": "507c11cb-0977-4a4f-8f96-412c71ff8510",
   "metadata": {},
   "outputs": [],
   "source": [
    "# grid search code"
   ]
  },
  {
   "cell_type": "code",
   "execution_count": null,
   "id": "8e713672-a835-4f20-a29f-c750c15054f9",
   "metadata": {},
   "outputs": [],
   "source": []
  },
  {
   "cell_type": "code",
   "execution_count": null,
   "id": "ddffc747-da2c-4de2-8fab-ddb4b26b817f",
   "metadata": {},
   "outputs": [],
   "source": []
  },
  {
   "cell_type": "code",
   "execution_count": null,
   "id": "ccf4d5f9-f728-4dd2-9b46-d719e6bf1fcf",
   "metadata": {},
   "outputs": [],
   "source": []
  }
 ],
 "metadata": {
  "interpreter": {
   "hash": "b0fa6594d8f4cbf19f97940f81e996739fb7646882a419484c72d19e05852a7e"
  },
  "kernelspec": {
   "display_name": "Python 3.9.13 64-bit",
   "language": "python",
   "name": "python3"
  },
  "language_info": {
   "codemirror_mode": {
    "name": "ipython",
    "version": 3
   },
   "file_extension": ".py",
   "mimetype": "text/x-python",
   "name": "python",
   "nbconvert_exporter": "python",
   "pygments_lexer": "ipython3",
   "version": "3.9.13"
  }
 },
 "nbformat": 4,
 "nbformat_minor": 5
}
