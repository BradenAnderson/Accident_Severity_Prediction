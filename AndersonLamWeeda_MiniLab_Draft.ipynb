{
 "cells": [
  {
   "cell_type": "markdown",
   "id": "e2d65f59-d8fb-4ca3-8471-66ba2bb4e02b",
   "metadata": {},
   "source": [
    "# Team Introduction\n",
    "Our group is comprised of Braden Anderson, Hien Lam, and Tavin Weeda."
   ]
  },
  {
   "cell_type": "code",
   "execution_count": 2,
   "id": "061beda2",
   "metadata": {},
   "outputs": [],
   "source": [
    "# import libraries here"
   ]
  },
  {
   "cell_type": "code",
   "execution_count": 3,
   "id": "ea103bda",
   "metadata": {},
   "outputs": [],
   "source": [
    "# read df here"
   ]
  },
  {
   "cell_type": "markdown",
   "id": "7db3570f",
   "metadata": {},
   "source": [
    "# Overview\n",
    "We would like to predict injury severity of the 2021 vehicular accident data. This is a classification problem in which effectiveness will ultimately be measured based on accuracy. \n",
    "\n",
    "Our plan of action:\n",
    "1. Finalize features, one hot encode as necessary\n",
    "2. Conduct feature selection\n",
    "3. Using an 80/20 train/test split, perform gridsearches with cross validation on scaled features (did we do 10-fold cv? if so, mention it). Specifically, gridsearches for SVC and SGDClassifier\n",
    "4. Elucidate the best performing models with highest accuracy and ascertain its accuracy on the hold out test set\n",
    "5. Interpret the feature importance from logistic regression\n",
    "6. Interpret support vectors\n",
    "7. Discuss the pros and cons of each model as it relates to classification\n",
    "8. Conclude with our findings"
   ]
  },
  {
   "cell_type": "markdown",
   "id": "325426bf",
   "metadata": {},
   "source": [
    "## Finalize the features and other post-EDA work"
   ]
  },
  {
   "cell_type": "code",
   "execution_count": 4,
   "id": "fd7bacd6",
   "metadata": {},
   "outputs": [],
   "source": [
    "# braden's plot function here"
   ]
  },
  {
   "cell_type": "code",
   "execution_count": 5,
   "id": "826e31a2",
   "metadata": {},
   "outputs": [],
   "source": [
    "# plot response var here"
   ]
  },
  {
   "cell_type": "markdown",
   "id": "4cec7e17",
   "metadata": {},
   "source": [
    "Because we are dealing with multinomial classification, here is a brief visual of the distribution injury severity to remind the reader of its levels.\n",
    "\n",
    "Furthermore, mention features removed from EDA and features added (restraint, pcrash), and which features were binned post-EDA. Maybe add plots in if time. \n",
    "\n",
    "Also list features that were one hot encoded here (braden)"
   ]
  },
  {
   "cell_type": "markdown",
   "id": "7410e68b",
   "metadata": {},
   "source": [
    "## Feature Selection\n",
    "\n",
    "This was conducted through three different feature importance mechanisms: random forest, mutual information, and SelectKBest. Mention any tunings if relevant.\n",
    "\n",
    "As depicted below, the overlapping features were age, restraint use, vehicle body type, alcohol use, night and evening hours, and Friday. The results aligned with our intution as to components that attribute to an average car crash. Body type is an intruiging feature that we did not expect to see here. "
   ]
  },
  {
   "cell_type": "code",
   "execution_count": 6,
   "id": "b732eed8",
   "metadata": {},
   "outputs": [],
   "source": [
    "# plots of results. maybe one for each technique"
   ]
  },
  {
   "cell_type": "markdown",
   "id": "6f71919d-98ea-4c01-ab90-15629631cc08",
   "metadata": {},
   "source": [
    "# Create Models\n",
    "Create a logistic regression model and a support vector machine model for the classification task involved with your dataset. Assess how well each model performs (use 80/20 training/testing split for your data). Adjust parameters of the models to make them more accurate. If your dataset size requires the use of stochastic gradient descent, then linear kernel only is fine to use. That is, the SGDClassifier is fine to use for optimizing logistic regression and linear support vector machines. For many problems, SGD will be required in order to train the SVM model in a reasonable timeframe. 50 points."
   ]
  },
  {
   "cell_type": "code",
   "execution_count": 1,
   "id": "4a9f26a4",
   "metadata": {},
   "outputs": [],
   "source": [
    "# code to split train/test data here\n",
    "# mention that one hot encoded was done inside gridsearch?"
   ]
  },
  {
   "cell_type": "markdown",
   "id": "0b00e246",
   "metadata": {},
   "source": [
    "## Logistic Regression\n",
    "\n",
    "Mention hyperparameter tunings here"
   ]
  },
  {
   "cell_type": "code",
   "execution_count": null,
   "id": "7de91746-0305-4219-b698-0bb238ad12fa",
   "metadata": {},
   "outputs": [],
   "source": []
  },
  {
   "cell_type": "markdown",
   "id": "741841ce",
   "metadata": {},
   "source": [
    "## Support Vector\n",
    "\n",
    "Mention hyperparameter tunings here"
   ]
  },
  {
   "cell_type": "code",
   "execution_count": null,
   "id": "efee53ff-449d-4628-ae45-c84ae04c12aa",
   "metadata": {},
   "outputs": [],
   "source": []
  },
  {
   "cell_type": "markdown",
   "id": "12e063e1-e097-41bd-9a55-c7b4f0a8d9e7",
   "metadata": {},
   "source": [
    "# Model Advantages\n",
    "Discuss the advantages of each model for each classification task. Does one type of model offer superior performance over another in terms of prediction accuracy? In terms of training time or efficiency? Explain in detail. 10 points.\n",
    "\n",
    "**For report cohesion, this section will be discussed near the end along with our conclusion.**"
   ]
  },
  {
   "cell_type": "markdown",
   "id": "877a4b3d-1463-48d0-86f6-078066a8cfd0",
   "metadata": {},
   "source": [
    "# Interpret Feature Importance\n",
    "Use the weights from logistic regression to interpret the importance of different features for the classification task. Explain your interpretation in detail. Why do you think some variables are more important? 30 points."
   ]
  },
  {
   "cell_type": "code",
   "execution_count": 7,
   "id": "10fd606e-4f2b-4022-b745-1ff62c4b10c6",
   "metadata": {},
   "outputs": [],
   "source": [
    "# plot of feature importance here"
   ]
  },
  {
   "cell_type": "markdown",
   "id": "b4f11934",
   "metadata": {},
   "source": [
    "Top five most important features\n",
    "1. Words \n",
    "2. Words\n",
    "3. Words\n",
    "4. Words\n",
    "5. Words\n",
    "\n",
    "<!-- Continuous feature interpretation:\n",
    "For every one year increase in age, the estimated odds for fatal injury increased by a multiplicative factor of N, holding all other variables constant. Include practical change in odds if appropriate. \n",
    "Categorical feature interpretation:\n",
    "The estimated odds for a fatal injury with X was N times higher than Y, holding all other variables constant. -->"
   ]
  },
  {
   "cell_type": "markdown",
   "id": "781e0aa2-f56e-4517-9f8b-a927c1ac2083",
   "metadata": {},
   "source": [
    "# Interpret Support Vectors\n",
    "Look at the chosen support vectors for the classification task. Do these provide any insight into the data? Explain. If you used stochastic gradient descent (and therefore did not explicitly solve for support vectors), try subsampling your data to train the SVC model— then analyze the support vectors from the subsampled dataset. 10 points."
   ]
  },
  {
   "cell_type": "code",
   "execution_count": null,
   "id": "0c09d1a5-c436-48dc-88ca-1ba7f98f08fe",
   "metadata": {},
   "outputs": [],
   "source": []
  },
  {
   "cell_type": "code",
   "execution_count": null,
   "id": "87955556",
   "metadata": {},
   "outputs": [],
   "source": []
  },
  {
   "cell_type": "markdown",
   "id": "12e063e1-e097-41bd-9a55-c7b4f0a8d9e7",
   "metadata": {},
   "source": [
    "# Model Advantages\n",
    "Discuss the advantages of each model for each classification task. Does one type of model offer superior performance over another in terms of prediction accuracy? In terms of training time or efficiency? Explain in detail. 10 points."
   ]
  },
  {
   "cell_type": "markdown",
   "id": "6d814c65",
   "metadata": {},
   "source": [
    "**Logistic regression**\n",
    "- Faster training time\n",
    "- More interpretable \n",
    "- words\n",
    "\n",
    "**SVM**\n",
    "- More complex to better capture signal/trend\n",
    "- Lower likelihood of bias\n",
    "- More likely to produce higher prediction accuracy\n",
    "- words\n",
    "- words\n",
    "\n",
    "We theorized that logistic regression would perform worse due to the complexity of our QOI. SVC has higher approximation power and likely discern complex functions. Maybe mention gridsearch time if relevant."
   ]
  },
  {
   "cell_type": "markdown",
   "id": "ee824647",
   "metadata": {},
   "source": [
    "# Conclusion\n",
    "\n",
    "Report test metrics. Based on these results, it concurred/disagreed with our theory because more words\n"
   ]
  },
  {
   "cell_type": "code",
   "execution_count": null,
   "id": "03d9a311",
   "metadata": {},
   "outputs": [],
   "source": []
  }
 ],
 "metadata": {
  "interpreter": {
   "hash": "31f2aee4e71d21fbe5cf8b01ff0e069b9275f58929596ceb00d14d90e3e16cd6"
  },
  "kernelspec": {
   "display_name": "Python 3.8.9 64-bit",
   "language": "python",
   "name": "python3"
  },
  "language_info": {
   "codemirror_mode": {
    "name": "ipython",
    "version": 3
   },
   "file_extension": ".py",
   "mimetype": "text/x-python",
   "name": "python",
   "nbconvert_exporter": "python",
   "pygments_lexer": "ipython3",
   "version": "3.8.9"
  }
 },
 "nbformat": 4,
 "nbformat_minor": 5
}
