{
 "cells": [
  {
   "cell_type": "markdown",
   "id": "0c7caa7b-4497-48eb-babe-88ac2189df66",
   "metadata": {},
   "source": [
    "# Team Introduction\n",
    "Our group is comprised of Braden Anderson, Hien Lam, and Tavin Weeda."
   ]
  },
  {
   "cell_type": "code",
   "execution_count": 2,
   "id": "9530ae09-bf60-4bbb-8477-acbc170b7ac1",
   "metadata": {},
   "outputs": [],
   "source": [
    "import pandas as pd\n",
    "import numpy as np\n",
    "import matplotlib.pyplot as plt\n",
    "import seaborn as sns"
   ]
  },
  {
   "cell_type": "code",
   "execution_count": null,
   "id": "fbb315e2-05d6-4c62-b1cb-03df32bed8a4",
   "metadata": {},
   "outputs": [],
   "source": [
    "# Read in data from github\n",
    "url_accident = \"https://github.com/BradenAnderson/Accident_Severity_Prediction/blob/main/Data/accident.csv.gz?raw=tr\"\n",
    "url_vehicle = \"https://github.com/BradenAnderson/Accident_Severity_Prediction/blob/main/Data/vehicle.csv.gz?raw=tr\"\n",
    "url_person = \"https://github.com/BradenAnderson/Accident_Severity_Prediction/blob/main/Data/person.csv.gz?raw=tr\"\n",
    "\n",
    "accident = pd.read_csv(url_accident,compression='gzip')\n",
    "vehicle = pd.read_csv(url_vehicle, compression='gzip', low_memory=False, encoding=\"ISO-8859-1\")\n",
    "person = pd.read_csv(url_person, compression='gzip', low_memory=False, encoding=\"ISO-8859-1\")\n",
    "\n",
    "# Filter accidents where driver is present and vehicle is involved\n",
    "person = person.loc[(person.VEH_NO==1) & (person.PER_NO==1)]\n",
    "vehicle = vehicle.loc[vehicle.VEH_NO==1]\n",
    "\n",
    "# Left join person with vehicle and accident\n",
    "# Duplicated CASENUM are dropped\n",
    "df = person.merge(vehicle.drop_duplicates(subset=['CASENUM']), on='CASENUM', how='left')\n",
    "df = df.merge(accident.drop_duplicates(subset=['CASENUM']),on='CASENUM',how='left')\n",
    "\n",
    "# Select\n",
    "df = df[['REGIONNAME','URBANICITYNAME','BODY_TYPNAME_x', 'MOD_YEARNAME_x','VTRAFWAYNAME','VNUM_LANNAME','VSURCONDNAME','VTRAFCONNAME','TYP_INTNAME','INT_HWYNAME','WEATHERNAME',\n",
    "        'WKDY_IMNAME', 'RELJCT1_IMNAME','LGTCON_IMNAME','MAXSEV_IMNAME','ALCHL_IMNAME','AGE_IM','SEX_IMNAME','TRAV_SP','REST_USENAME','PCRASH1_IMNAME','HOUR_IMNAME','VSPD_LIM',\n",
    "        'HOUR_IM']]\n",
    "\n",
    "df = df.rename(columns=str.lower)\n",
    "df.shape"
   ]
  },
  {
   "cell_type": "code",
   "execution_count": null,
   "id": "f9b92301-3b82-4694-9039-00ab8ae2233e",
   "metadata": {},
   "outputs": [],
   "source": [
    "# Check for NA values\n",
    "df.isnull().sum()"
   ]
  },
  {
   "cell_type": "code",
   "execution_count": null,
   "id": "ced5062b-152e-45c7-bc7c-1ca4949e5d3f",
   "metadata": {},
   "outputs": [],
   "source": [
    "# Remove NA values since they are low representation of the entire dataset\n",
    "df.dropna(inplace=True)"
   ]
  },
  {
   "cell_type": "code",
   "execution_count": null,
   "id": "86d2eae0-2188-4c70-8c37-40a4aaf5d712",
   "metadata": {},
   "outputs": [],
   "source": [
    "# Confirm NA values are removed\n",
    "df.isnull().sum().sum()"
   ]
  },
  {
   "cell_type": "code",
   "execution_count": null,
   "id": "5d81eda4-bd8c-462f-b010-25353db17278",
   "metadata": {},
   "outputs": [],
   "source": [
    "df.shape"
   ]
  },
  {
   "cell_type": "code",
   "execution_count": null,
   "id": "d85d530e-9585-474b-934b-08b6e6746023",
   "metadata": {},
   "outputs": [],
   "source": []
  },
  {
   "cell_type": "code",
   "execution_count": null,
   "id": "8d38825d-5dbf-4656-87bc-07d812121d62",
   "metadata": {},
   "outputs": [],
   "source": []
  },
  {
   "cell_type": "code",
   "execution_count": null,
   "id": "718777a9-a88e-4e30-8437-5836b0703da0",
   "metadata": {},
   "outputs": [],
   "source": []
  },
  {
   "cell_type": "code",
   "execution_count": null,
   "id": "dcf21ab8-0a34-4eff-b278-3d001d3df360",
   "metadata": {},
   "outputs": [],
   "source": [
    "df.info()"
   ]
  },
  {
   "cell_type": "code",
   "execution_count": null,
   "id": "81103293-ec38-4c8c-8443-2d32c85b069e",
   "metadata": {},
   "outputs": [],
   "source": [
    "df.head()"
   ]
  },
  {
   "cell_type": "markdown",
   "id": "b0377dea-855a-487f-87de-aa582b77fd4a",
   "metadata": {},
   "source": [
    "# Business Understanding 1\n",
    "- Describe the purpose of the data set you selected (i.e., why was this data collected in the first place?). \n",
    "- How will you measure the effectiveness of a good algorithm? \n",
    "- Why does your chosen validation method make sense for this specificdataset and the stakeholders needs?  \n",
    "(10)"
   ]
  },
  {
   "cell_type": "code",
   "execution_count": null,
   "id": "cd8c7cfd-ca98-4d0e-a800-20680fd72c13",
   "metadata": {},
   "outputs": [],
   "source": []
  },
  {
   "cell_type": "markdown",
   "id": "07a94d70-d011-4903-9e2c-79d30a03c491",
   "metadata": {},
   "source": [
    "# Data Understanding 1\n",
    "- Describe the meaning and type of data (scale, values, etc.) for each attribute in the data file. \n",
    "- Verify data quality: Are there missing values? \n",
    "- Duplicate data? Outliers? Are those mistakes? \n",
    "- How do you deal with these problems?  \n",
    "(10)"
   ]
  },
  {
   "cell_type": "markdown",
   "id": "7477f27a-806e-4fe0-b2b4-a1269678d8c0",
   "metadata": {},
   "source": [
    "## Section Summary:\n",
    "- words\n",
    "- words\n",
    "- words\n",
    "- words\n",
    "\n",
    "## Comprehensive Data Cleaning Steps\n",
    "1. Read, merged, filtered the data (54427 rows, 24 columns) then dealt with missing values to result in (54473, 24)\n",
    "2. Inspected each feature, noted cleaning steps if necessary (features from lab 1 only)\n",
    "3. Carefully binned existing features (`body_type_binned`, `intersection_binned`, `weather_binned`)\n",
    "4. Derived new features (`speeding_status`, `hour_binned`, `restraint_binned`, `pcrash1_imname`)\n",
    "5. Binned and visualized response variable for classification task, `maxsev_binned`\n",
    "6. Visualized response variable for regression task, `age_im`\n",
    "7. Confirmed there are zero duplicates and NA values (50535, 24)\n",
    "8. Conducted data preprocessing: \n",
    "  - Split full dataset into 80% train / 20% test, performed 10 fold stratified cross validation within the 80% train set.\n",
    "  - Scaled `age_im` and `mod_yearname_x` on train and test data separately (ensured transformer was only fit on the train set to prevent data leakage)\n",
    "  - Ordinal and one hot encoded features on train and test data separately\n",
    "  - Imputed and scaled `trav_sp` on train and test data separately (ensured transformer was only fit on the train set to prevent data leakage)\n",
    "9. Removed variables that were not needed/useful: \n",
    "  - `makename` (too many levels), \n",
    "  - `wrk_zonename` (99% of one class)\n",
    "  - `hour_imname` (unnecessary with `hour_binned`)\n",
    "  - `vspd_lim` (unnecessary with `speeding_status`) \n",
    "  - `body_type_x` (unnecessary with `body_type_binned`)\n",
    "  - `weathername` (unecessary with `weather_binned`)\n",
    "  - `typ_intname` (unnecessary with `intersection_binned`)\n",
    "  - `maxsev_imname` (unnecessary with `maxsev_binned`)\n",
    "  - `trav_sp` (unnecessary with `trav_sp_imputed`)\n",
    "10. Final dataset dimension 50535 rows, 119 columns (prior to train/test split)"
   ]
  },
  {
   "cell_type": "markdown",
   "id": "8cf223b2-65bd-4293-ac74-a3f090532109",
   "metadata": {},
   "source": [
    "### Read, clean the data"
   ]
  },
  {
   "cell_type": "code",
   "execution_count": null,
   "id": "6cfd54ea-a8b0-481c-b11f-1089652fc8bd",
   "metadata": {},
   "outputs": [],
   "source": [
    "# Read in data from github\n",
    "url_accident = \"https://github.com/BradenAnderson/Accident_Severity_Prediction/blob/main/Data/accident.csv.gz?raw=tr\"\n",
    "url_vehicle = \"https://github.com/BradenAnderson/Accident_Severity_Prediction/blob/main/Data/vehicle.csv.gz?raw=tr\"\n",
    "url_person = \"https://github.com/BradenAnderson/Accident_Severity_Prediction/blob/main/Data/person.csv.gz?raw=tr\"\n",
    "\n",
    "accident = pd.read_csv(url_accident,compression='gzip')\n",
    "vehicle = pd.read_csv(url_vehicle, compression='gzip', low_memory=False, encoding=\"ISO-8859-1\")\n",
    "person = pd.read_csv(url_person, compression='gzip', low_memory=False, encoding=\"ISO-8859-1\")\n",
    "\n",
    "# Filter accidents where driver is present and vehicle is involved\n",
    "person = person.loc[(person.VEH_NO==1) & (person.PER_NO==1)]\n",
    "vehicle = vehicle.loc[vehicle.VEH_NO==1]\n",
    "\n",
    "# Left join person with vehicle and accident\n",
    "# Duplicated CASENUM are dropped\n",
    "df = person.merge(vehicle.drop_duplicates(subset=['CASENUM']), on='CASENUM', how='left')\n",
    "df = df.merge(accident.drop_duplicates(subset=['CASENUM']),on='CASENUM',how='left')\n",
    "\n",
    "# Select\n",
    "df = df[['REGIONNAME','URBANICITYNAME','BODY_TYPNAME_x', 'MOD_YEARNAME_x','VTRAFWAYNAME','VNUM_LANNAME','VSURCONDNAME','VTRAFCONNAME','TYP_INTNAME','INT_HWYNAME','WEATHERNAME',\n",
    "        'WKDY_IMNAME', 'RELJCT1_IMNAME','LGTCON_IMNAME','MAXSEV_IMNAME','ALCHL_IMNAME','AGE_IM','SEX_IMNAME','TRAV_SP','REST_USENAME','PCRASH1_IMNAME','HOUR_IMNAME','VSPD_LIM',\n",
    "        'HOUR_IM']]\n",
    "\n",
    "df = df.rename(columns=str.lower)\n",
    "df.shape"
   ]
  },
  {
   "cell_type": "code",
   "execution_count": null,
   "id": "827a5acb-cef7-4a75-bb23-a92caf145a61",
   "metadata": {},
   "outputs": [],
   "source": [
    "# Check for NA values\n",
    "df.isnull().sum()"
   ]
  },
  {
   "cell_type": "code",
   "execution_count": null,
   "id": "07f0acf5-02c4-4bbf-9e0c-1a9768e06650",
   "metadata": {},
   "outputs": [],
   "source": [
    "# Remove NA values since they are low representation of the entire dataset\n",
    "df.dropna(inplace=True)"
   ]
  },
  {
   "cell_type": "code",
   "execution_count": null,
   "id": "0ce0a008-fb11-46a6-ae00-e3a7994ad068",
   "metadata": {},
   "outputs": [],
   "source": [
    "# Confirm NA values are removed\n",
    "df.isnull().sum().sum()"
   ]
  },
  {
   "cell_type": "code",
   "execution_count": null,
   "id": "05ebf163-f79a-4abd-802a-a1d31f09ab91",
   "metadata": {},
   "outputs": [],
   "source": [
    "df.shape"
   ]
  },
  {
   "cell_type": "code",
   "execution_count": null,
   "id": "70459896-20e7-4002-9e7e-6de0303bf2e7",
   "metadata": {},
   "outputs": [],
   "source": []
  },
  {
   "cell_type": "code",
   "execution_count": null,
   "id": "7eaf7d9a-f524-4ddf-9a48-05629c18606f",
   "metadata": {},
   "outputs": [],
   "source": []
  },
  {
   "cell_type": "code",
   "execution_count": null,
   "id": "d2cd9fe3-b193-407e-aa42-931912ef7dda",
   "metadata": {},
   "outputs": [],
   "source": []
  },
  {
   "cell_type": "code",
   "execution_count": null,
   "id": "0acf0148-9259-4548-aceb-3e4cca5a5294",
   "metadata": {},
   "outputs": [],
   "source": [
    "df.info()"
   ]
  },
  {
   "cell_type": "code",
   "execution_count": null,
   "id": "533dd7a7-9f8b-4ec7-8cab-38ff14ae8d19",
   "metadata": {},
   "outputs": [],
   "source": [
    "df.head()"
   ]
  },
  {
   "cell_type": "code",
   "execution_count": null,
   "id": "816f65a2-a782-4050-a8c8-422f04ed66ac",
   "metadata": {},
   "outputs": [],
   "source": []
  },
  {
   "cell_type": "markdown",
   "id": "937b05c9-646c-422d-a250-e0030706d42c",
   "metadata": {},
   "source": [
    "# Data Understanding 2\n",
    "- Visualize the any important attributes appropriately. \n",
    "- Important: Provide an interpretation for any charts or graphs.  \n",
    "(10)"
   ]
  },
  {
   "cell_type": "code",
   "execution_count": null,
   "id": "1e4750a9-3aa1-44d3-9032-3c64995a5a70",
   "metadata": {},
   "outputs": [],
   "source": []
  },
  {
   "cell_type": "markdown",
   "id": "4ba4936a-e444-4191-aada-102d1dd5a392",
   "metadata": {},
   "source": [
    "# Model and Evaluation 1\n",
    "- Train and adjust parameters  \n",
    "(10)"
   ]
  },
  {
   "cell_type": "code",
   "execution_count": null,
   "id": "3c979904-a57c-451f-ac19-8349ed2de3a5",
   "metadata": {},
   "outputs": [],
   "source": []
  },
  {
   "cell_type": "markdown",
   "id": "c416c543-f0cd-4c7d-82fc-d8dc81a30674",
   "metadata": {},
   "source": [
    "# Model and Evaluation 2\n",
    "- Evaluate and compare  \n",
    "(10)"
   ]
  },
  {
   "cell_type": "code",
   "execution_count": null,
   "id": "09a01764-47da-4767-b19b-1213f79a408c",
   "metadata": {},
   "outputs": [],
   "source": []
  },
  {
   "cell_type": "markdown",
   "id": "8be4c7d6-261c-471e-8f2d-864712fec8fd",
   "metadata": {},
   "source": [
    "# Model and Evaluation 3\n",
    "- Visualize results  \n",
    "(10)"
   ]
  },
  {
   "cell_type": "code",
   "execution_count": null,
   "id": "042ddfc3-4483-4b77-98dd-88e720b64bbb",
   "metadata": {},
   "outputs": [],
   "source": []
  },
  {
   "cell_type": "markdown",
   "id": "b70b78a2-01c5-4701-9b92-f94d302c5412",
   "metadata": {},
   "source": [
    "# Model and Evaluation 4\n",
    "- Summarize the ramifications  \n",
    "(20)"
   ]
  },
  {
   "cell_type": "code",
   "execution_count": null,
   "id": "07438a58-9cbc-436a-98fb-4d30f1a3cfdd",
   "metadata": {},
   "outputs": [],
   "source": []
  },
  {
   "cell_type": "markdown",
   "id": "844b16c1-b974-4b07-a638-68cd03e3eb7c",
   "metadata": {},
   "source": [
    "# Deployment\n",
    "- Be critical of your performance and tell the reader how you current model might be usable by other parties. \n",
    "- Did you achieve your goals? If not, can you reign in the utility of your modeling? \n",
    "- How useful is your model for interested parties (i.e., the companies or organizations that might want to use it)? \n",
    "- How would your deploy your model for interested parties? \n",
    "- What other data should be collected? \n",
    "- How often would the model need to be updated, etc.?  \n",
    "(10)"
   ]
  },
  {
   "cell_type": "code",
   "execution_count": null,
   "id": "02b57515-141a-4694-bac5-f2fadf45fd3d",
   "metadata": {},
   "outputs": [],
   "source": []
  },
  {
   "cell_type": "markdown",
   "id": "ab85ae8a-caaa-406c-90c9-7fec263eb786",
   "metadata": {},
   "source": [
    "# Exceptional Work\n",
    "- You have free reign to provide additional analyses or combine analyses.  \n",
    "(10)"
   ]
  },
  {
   "cell_type": "code",
   "execution_count": null,
   "id": "8366b32e-a08e-4fc6-8483-6db7a61274c3",
   "metadata": {},
   "outputs": [],
   "source": []
  },
  {
   "cell_type": "markdown",
   "id": "d308c8d5-7802-4903-b293-10727714380f",
   "metadata": {},
   "source": [
    "# Appendix\n",
    "Data dictionary referenced from [CRSS Analytical Users Manual](https://crashstats.nhtsa.dot.gov/Api/Public/ViewPublication/813236)"
   ]
  },
  {
   "cell_type": "code",
   "execution_count": null,
   "id": "7b16519a-e457-46e9-8807-01900bbbd03b",
   "metadata": {},
   "outputs": [],
   "source": []
  }
 ],
 "metadata": {
  "kernelspec": {
   "display_name": "Python 3 (ipykernel)",
   "language": "python",
   "name": "python3"
  },
  "language_info": {
   "codemirror_mode": {
    "name": "ipython",
    "version": 3
   },
   "file_extension": ".py",
   "mimetype": "text/x-python",
   "name": "python",
   "nbconvert_exporter": "python",
   "pygments_lexer": "ipython3",
   "version": "3.9.12"
  }
 },
 "nbformat": 4,
 "nbformat_minor": 5
}
