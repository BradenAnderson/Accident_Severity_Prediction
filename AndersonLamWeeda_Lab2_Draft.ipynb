{
 "cells": [
  {
   "cell_type": "markdown",
   "id": "14465f5e-6fac-4be3-907b-13465bd9101a",
   "metadata": {},
   "source": [
    "# Team Introduction\n",
    "Our group is comprised of Braden Anderson, Hien Lam, and Tavin Weeda."
   ]
  },
  {
   "cell_type": "code",
   "execution_count": null,
   "id": "a5584c78-aaa7-4d0c-95c6-a144d80e9616",
   "metadata": {},
   "outputs": [],
   "source": [
    "import pandas as pd\n",
    "import numpy as np\n",
    "import matplotlib.pyplot as plt\n",
    "import seaborn as sns\n",
    "import json\n",
    "import pickle \n",
    "\n",
    "from sklearn.preprocessing import StandardScaler, OrdinalEncoder, OneHotEncoder, StandardScaler, LabelEncoder\n",
    "from sklearn.pipeline import Pipeline\n",
    "from sklearn.compose import ColumnTransformer\n",
    "from sklearn.svm import SVC\n",
    "from sklearn.linear_model import SGDClassifier, LogisticRegression\n",
    "from sklearn.metrics import accuracy_score, recall_score, precision_score, f1_score, multilabel_confusion_matrix, ConfusionMatrixDisplay\n",
    "from sklearn.model_selection import GridSearchCV, train_test_split\n",
    "from sklearn.feature_selection import SelectKBest, mutual_info_classif\n",
    "from sklearn.ensemble import RandomForestClassifier"
   ]
  },
  {
   "cell_type": "markdown",
   "id": "54fa370a-cdb7-4967-98b0-747869450ed0",
   "metadata": {},
   "source": [
    "# Data Preparation Part 1\n",
    "- Define and prepare your class variables. \n",
    "- Use proper variable representations (int, float, one-hot, etc.). \n",
    "- Use pre-processing methods (as needed) for dimensionality reduction, scaling, etc. \n",
    "- Remove variables that are not needed/useful for the analysis.\n",
    "(10)"
   ]
  },
  {
   "cell_type": "code",
   "execution_count": null,
   "id": "119eb5e3-4a2a-4526-948b-4d7705beb695",
   "metadata": {},
   "outputs": [],
   "source": []
  },
  {
   "cell_type": "code",
   "execution_count": null,
   "id": "2097c379-9be9-4c62-b99a-f695adc078b1",
   "metadata": {},
   "outputs": [],
   "source": []
  },
  {
   "cell_type": "markdown",
   "id": "ff945102-b71e-43aa-939a-928626b33371",
   "metadata": {},
   "source": [
    "# Data Preparation Part 2\n",
    "Describe the final dataset that is used for classification/regression (include a description of any newly formed variables you created).\n",
    "(5)"
   ]
  },
  {
   "cell_type": "code",
   "execution_count": null,
   "id": "fcdef93a-67c3-4ffd-9c92-6f6e91703a29",
   "metadata": {},
   "outputs": [],
   "source": []
  },
  {
   "cell_type": "code",
   "execution_count": null,
   "id": "46f0b5c7-a016-4e61-9ff2-f2d193c22067",
   "metadata": {},
   "outputs": [],
   "source": []
  },
  {
   "cell_type": "markdown",
   "id": "6a80e3b7-a078-40ad-97b8-ecc6bc4fc91b",
   "metadata": {},
   "source": [
    "# Model and Evaluation 1\n",
    "- Choose and explain your evaluation metrics that you will use (i.e., accuracy, precision, recall, F-measure, or any metric we have discussed). \n",
    "- Why are the measure(s) appropriate for analyzing the results of your modeling? Give a detailed explanation backing up any assertions.\n",
    "(10)"
   ]
  },
  {
   "cell_type": "code",
   "execution_count": null,
   "id": "28ab35bc-0b4a-46fe-9ddb-baf067ef8337",
   "metadata": {},
   "outputs": [],
   "source": []
  },
  {
   "cell_type": "code",
   "execution_count": null,
   "id": "5e68d0ab-c82b-4529-9530-1a330ac3de51",
   "metadata": {},
   "outputs": [],
   "source": []
  },
  {
   "cell_type": "markdown",
   "id": "e4c611f7-9bbd-4c70-9592-81d8429a3843",
   "metadata": {},
   "source": [
    "# Model and Evaluation 2\n",
    "- Choose the method you will use for dividing your data into training and testing splits (i.e., are you using Stratified 10-fold cross validation? Why?). \n",
    "- Explain why your chosen method is appropriate or use more than one method as appropriate. For example, if you are using time series data then you should be using continuous training and testing sets across time.\n",
    "(10)"
   ]
  },
  {
   "cell_type": "code",
   "execution_count": null,
   "id": "5b8dfa80-f5b7-4165-8bde-5fe1f2c1a2dc",
   "metadata": {},
   "outputs": [],
   "source": []
  },
  {
   "cell_type": "code",
   "execution_count": null,
   "id": "d664e24b-918b-4797-8b79-28be1d78140f",
   "metadata": {},
   "outputs": [],
   "source": []
  },
  {
   "cell_type": "markdown",
   "id": "c05fdd8d-d02e-4234-94ed-ecd1729401a4",
   "metadata": {},
   "source": [
    "# Model and Evaluation 3\n",
    "- Create three different classification/regression models for each task (e.g., random forest, KNN, and SVM for task one and the same or different algorithms for task two). \n",
    "- Two modeling techniques must be new (but the third could be SVM or logistic regression). \n",
    "- Adjust parameters as appropriate to increase generalization performance using your chosen metric. \n",
    "- You must investigate different parameters of the algorithms!\n",
    "(20)"
   ]
  },
  {
   "cell_type": "code",
   "execution_count": null,
   "id": "5cb6f4d5-d9f4-4b81-ba17-bee648889030",
   "metadata": {},
   "outputs": [],
   "source": []
  },
  {
   "cell_type": "code",
   "execution_count": null,
   "id": "3da8843b-f8fe-4f57-b22c-daf2bda911c7",
   "metadata": {},
   "outputs": [],
   "source": []
  },
  {
   "cell_type": "markdown",
   "id": "ef1bb6a5-38d8-4cec-b6d5-4a85eaa5adf5",
   "metadata": {},
   "source": [
    "# Model and Evaluation 4\n",
    "- Analyze the results using your chosen method of evaluation. \n",
    "- Use visualizations of the results to bolster the analysis. \n",
    "- Explain any visuals and analyze why they are interesting to someone that might use this model.\n",
    "(10)"
   ]
  },
  {
   "cell_type": "code",
   "execution_count": null,
   "id": "17130637-287c-4f38-bd1a-0b5bb31c040a",
   "metadata": {},
   "outputs": [],
   "source": []
  },
  {
   "cell_type": "code",
   "execution_count": null,
   "id": "fa36422b-c0c4-4f2e-91a5-678721e17fde",
   "metadata": {},
   "outputs": [],
   "source": []
  },
  {
   "cell_type": "markdown",
   "id": "3d3e248b-338f-413a-9dcd-aa1fda118cb5",
   "metadata": {},
   "source": [
    "# Model and Evaluation 5\n",
    "- Discuss the advantages of each model for each classification task, if any. \n",
    "- If there are not advantages, explain why. Is any model better than another? \n",
    "- Is the difference significant with 95% confidence? Use proper statistical comparison methods. \n",
    "- You must use statistical comparison techniques—be sure they are appropriate for your chosen method of validation as discussed in unit 7 of the course.\n",
    "(10)"
   ]
  },
  {
   "cell_type": "code",
   "execution_count": null,
   "id": "d8465d18-554b-4265-821c-6e458552722f",
   "metadata": {},
   "outputs": [],
   "source": []
  },
  {
   "cell_type": "code",
   "execution_count": null,
   "id": "8baa2a71-3e66-4a3a-9716-0ff99ce3246b",
   "metadata": {},
   "outputs": [],
   "source": []
  },
  {
   "cell_type": "markdown",
   "id": "234c3b0f-a448-4b80-ab2e-90128b4da541",
   "metadata": {},
   "source": [
    "# Model and Evaluation 6 \n",
    "- Which attributes from your analysis are most important? \n",
    "- Use proper methods discussed in class to evaluate the importance of different attributes. \n",
    "- Discuss the results and hypothesize about why certain attributes are more important than others for a given classification task.\n",
    "(10)"
   ]
  },
  {
   "cell_type": "code",
   "execution_count": null,
   "id": "1e44eda7-999d-4ca5-869c-16cbe4e81c30",
   "metadata": {},
   "outputs": [],
   "source": []
  },
  {
   "cell_type": "code",
   "execution_count": null,
   "id": "e55e040e-75b4-44b8-a8f2-e888b9ba43d7",
   "metadata": {},
   "outputs": [],
   "source": []
  },
  {
   "cell_type": "markdown",
   "id": "57a7c155-d9d0-4c69-b749-1f8395f18165",
   "metadata": {},
   "source": [
    "# Deployment\n",
    "- How useful is your model for interested parties (i.e., the companies or organizations that might want to use it for prediction)? \n",
    "- How would you measure the model's value if it was used by these parties? \n",
    "- How would your deploy your model for interested parties? \n",
    "- What other data should be collected? How often would the model need to be updated, etc.? \n",
    "(5)"
   ]
  },
  {
   "cell_type": "code",
   "execution_count": null,
   "id": "2048bc4e-eaed-4fcd-b042-2401cb39e454",
   "metadata": {},
   "outputs": [],
   "source": []
  },
  {
   "cell_type": "code",
   "execution_count": null,
   "id": "110b1396-13bb-4853-8eae-829e6e8e1035",
   "metadata": {},
   "outputs": [],
   "source": []
  },
  {
   "cell_type": "markdown",
   "id": "9c97ea97-8fec-4f8b-b2d5-b54a9c43c8a3",
   "metadata": {},
   "source": [
    "# Exceptional Work\n",
    "- You have free reign to provide additional analyses. \n",
    "- One idea: grid search parameters in a parallelized fashion and visualize the performances across attributes. \n",
    "- Which parameters are most significant for making a good model for each classification algorithm?\n",
    "(10)"
   ]
  },
  {
   "cell_type": "code",
   "execution_count": null,
   "id": "507c11cb-0977-4a4f-8f96-412c71ff8510",
   "metadata": {},
   "outputs": [],
   "source": []
  },
  {
   "cell_type": "code",
   "execution_count": null,
   "id": "8e713672-a835-4f20-a29f-c750c15054f9",
   "metadata": {},
   "outputs": [],
   "source": []
  },
  {
   "cell_type": "code",
   "execution_count": null,
   "id": "ddffc747-da2c-4de2-8fab-ddb4b26b817f",
   "metadata": {},
   "outputs": [],
   "source": []
  },
  {
   "cell_type": "code",
   "execution_count": null,
   "id": "ccf4d5f9-f728-4dd2-9b46-d719e6bf1fcf",
   "metadata": {},
   "outputs": [],
   "source": []
  }
 ],
 "metadata": {
  "kernelspec": {
   "display_name": "Python 3 (ipykernel)",
   "language": "python",
   "name": "python3"
  },
  "language_info": {
   "codemirror_mode": {
    "name": "ipython",
    "version": 3
   },
   "file_extension": ".py",
   "mimetype": "text/x-python",
   "name": "python",
   "nbconvert_exporter": "python",
   "pygments_lexer": "ipython3",
   "version": "3.9.12"
  }
 },
 "nbformat": 4,
 "nbformat_minor": 5
}
